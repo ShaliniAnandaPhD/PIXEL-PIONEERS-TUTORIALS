{
  "nbformat": 4,
  "nbformat_minor": 0,
  "metadata": {
    "colab": {
      "provenance": [],
      "authorship_tag": "ABX9TyNQYe5W/Ug9QUUFcrBbualn",
      "include_colab_link": true
    },
    "kernelspec": {
      "name": "python3",
      "display_name": "Python 3"
    },
    "language_info": {
      "name": "python"
    }
  },
  "cells": [
    {
      "cell_type": "markdown",
      "metadata": {
        "id": "view-in-github",
        "colab_type": "text"
      },
      "source": [
        "<a href=\"https://colab.research.google.com/github/ShaliniAnandaPhD/PIXEL-PIONEERS-TUTORIALS/blob/main/biprinting_2.ipynb\" target=\"_parent\"><img src=\"https://colab.research.google.com/assets/colab-badge.svg\" alt=\"Open In Colab\"/></a>"
      ]
    },
    {
      "cell_type": "code",
      "execution_count": null,
      "metadata": {
        "id": "fp3wW79m5O0r",
        "colab": {
          "base_uri": "https://localhost:8080/"
        },
        "outputId": "d83c15d5-d07e-4994-c2ee-708c6cae86ef"
      },
      "outputs": [
        {
          "output_type": "stream",
          "name": "stdout",
          "text": [
            "Requirement already satisfied: stable-baselines3[extra] in /usr/local/lib/python3.10/dist-packages (2.3.0)\n",
            "Requirement already satisfied: gymnasium in /usr/local/lib/python3.10/dist-packages (0.29.1)\n",
            "Requirement already satisfied: matplotlib in /usr/local/lib/python3.10/dist-packages (3.7.1)\n",
            "Requirement already satisfied: numpy>=1.20 in /usr/local/lib/python3.10/dist-packages (from stable-baselines3[extra]) (1.25.2)\n",
            "Requirement already satisfied: torch>=1.13 in /usr/local/lib/python3.10/dist-packages (from stable-baselines3[extra]) (2.2.1+cu121)\n",
            "Requirement already satisfied: cloudpickle in /usr/local/lib/python3.10/dist-packages (from stable-baselines3[extra]) (2.2.1)\n",
            "Requirement already satisfied: pandas in /usr/local/lib/python3.10/dist-packages (from stable-baselines3[extra]) (2.0.3)\n",
            "Requirement already satisfied: opencv-python in /usr/local/lib/python3.10/dist-packages (from stable-baselines3[extra]) (4.8.0.76)\n",
            "Requirement already satisfied: pygame in /usr/local/lib/python3.10/dist-packages (from stable-baselines3[extra]) (2.5.2)\n",
            "Requirement already satisfied: tensorboard>=2.9.1 in /usr/local/lib/python3.10/dist-packages (from stable-baselines3[extra]) (2.15.2)\n",
            "Requirement already satisfied: psutil in /usr/local/lib/python3.10/dist-packages (from stable-baselines3[extra]) (5.9.5)\n",
            "Requirement already satisfied: tqdm in /usr/local/lib/python3.10/dist-packages (from stable-baselines3[extra]) (4.66.2)\n",
            "Requirement already satisfied: rich in /usr/local/lib/python3.10/dist-packages (from stable-baselines3[extra]) (13.7.1)\n",
            "Requirement already satisfied: shimmy[atari]~=1.3.0 in /usr/local/lib/python3.10/dist-packages (from stable-baselines3[extra]) (1.3.0)\n",
            "Requirement already satisfied: pillow in /usr/local/lib/python3.10/dist-packages (from stable-baselines3[extra]) (9.4.0)\n",
            "Requirement already satisfied: autorom[accept-rom-license]~=0.6.1 in /usr/local/lib/python3.10/dist-packages (from stable-baselines3[extra]) (0.6.1)\n",
            "Requirement already satisfied: typing-extensions>=4.3.0 in /usr/local/lib/python3.10/dist-packages (from gymnasium) (4.11.0)\n",
            "Requirement already satisfied: farama-notifications>=0.0.1 in /usr/local/lib/python3.10/dist-packages (from gymnasium) (0.0.4)\n",
            "Requirement already satisfied: contourpy>=1.0.1 in /usr/local/lib/python3.10/dist-packages (from matplotlib) (1.2.1)\n",
            "Requirement already satisfied: cycler>=0.10 in /usr/local/lib/python3.10/dist-packages (from matplotlib) (0.12.1)\n",
            "Requirement already satisfied: fonttools>=4.22.0 in /usr/local/lib/python3.10/dist-packages (from matplotlib) (4.51.0)\n",
            "Requirement already satisfied: kiwisolver>=1.0.1 in /usr/local/lib/python3.10/dist-packages (from matplotlib) (1.4.5)\n",
            "Requirement already satisfied: packaging>=20.0 in /usr/local/lib/python3.10/dist-packages (from matplotlib) (24.0)\n",
            "Requirement already satisfied: pyparsing>=2.3.1 in /usr/local/lib/python3.10/dist-packages (from matplotlib) (3.1.2)\n",
            "Requirement already satisfied: python-dateutil>=2.7 in /usr/local/lib/python3.10/dist-packages (from matplotlib) (2.8.2)\n",
            "Requirement already satisfied: click in /usr/local/lib/python3.10/dist-packages (from autorom[accept-rom-license]~=0.6.1->stable-baselines3[extra]) (8.1.7)\n",
            "Requirement already satisfied: requests in /usr/local/lib/python3.10/dist-packages (from autorom[accept-rom-license]~=0.6.1->stable-baselines3[extra]) (2.31.0)\n",
            "Requirement already satisfied: AutoROM.accept-rom-license in /usr/local/lib/python3.10/dist-packages (from autorom[accept-rom-license]~=0.6.1->stable-baselines3[extra]) (0.6.1)\n",
            "Requirement already satisfied: six>=1.5 in /usr/local/lib/python3.10/dist-packages (from python-dateutil>=2.7->matplotlib) (1.16.0)\n",
            "Requirement already satisfied: ale-py~=0.8.1 in /usr/local/lib/python3.10/dist-packages (from shimmy[atari]~=1.3.0->stable-baselines3[extra]) (0.8.1)\n",
            "Requirement already satisfied: absl-py>=0.4 in /usr/local/lib/python3.10/dist-packages (from tensorboard>=2.9.1->stable-baselines3[extra]) (1.4.0)\n",
            "Requirement already satisfied: grpcio>=1.48.2 in /usr/local/lib/python3.10/dist-packages (from tensorboard>=2.9.1->stable-baselines3[extra]) (1.62.1)\n",
            "Requirement already satisfied: google-auth<3,>=1.6.3 in /usr/local/lib/python3.10/dist-packages (from tensorboard>=2.9.1->stable-baselines3[extra]) (2.27.0)\n",
            "Requirement already satisfied: google-auth-oauthlib<2,>=0.5 in /usr/local/lib/python3.10/dist-packages (from tensorboard>=2.9.1->stable-baselines3[extra]) (1.2.0)\n",
            "Requirement already satisfied: markdown>=2.6.8 in /usr/local/lib/python3.10/dist-packages (from tensorboard>=2.9.1->stable-baselines3[extra]) (3.6)\n",
            "Requirement already satisfied: protobuf!=4.24.0,>=3.19.6 in /usr/local/lib/python3.10/dist-packages (from tensorboard>=2.9.1->stable-baselines3[extra]) (3.20.3)\n",
            "Requirement already satisfied: setuptools>=41.0.0 in /usr/local/lib/python3.10/dist-packages (from tensorboard>=2.9.1->stable-baselines3[extra]) (67.7.2)\n",
            "Requirement already satisfied: tensorboard-data-server<0.8.0,>=0.7.0 in /usr/local/lib/python3.10/dist-packages (from tensorboard>=2.9.1->stable-baselines3[extra]) (0.7.2)\n",
            "Requirement already satisfied: werkzeug>=1.0.1 in /usr/local/lib/python3.10/dist-packages (from tensorboard>=2.9.1->stable-baselines3[extra]) (3.0.2)\n",
            "Requirement already satisfied: filelock in /usr/local/lib/python3.10/dist-packages (from torch>=1.13->stable-baselines3[extra]) (3.13.4)\n",
            "Requirement already satisfied: sympy in /usr/local/lib/python3.10/dist-packages (from torch>=1.13->stable-baselines3[extra]) (1.12)\n",
            "Requirement already satisfied: networkx in /usr/local/lib/python3.10/dist-packages (from torch>=1.13->stable-baselines3[extra]) (3.3)\n",
            "Requirement already satisfied: jinja2 in /usr/local/lib/python3.10/dist-packages (from torch>=1.13->stable-baselines3[extra]) (3.1.3)\n",
            "Requirement already satisfied: fsspec in /usr/local/lib/python3.10/dist-packages (from torch>=1.13->stable-baselines3[extra]) (2023.6.0)\n",
            "Requirement already satisfied: nvidia-cuda-nvrtc-cu12==12.1.105 in /usr/local/lib/python3.10/dist-packages (from torch>=1.13->stable-baselines3[extra]) (12.1.105)\n",
            "Requirement already satisfied: nvidia-cuda-runtime-cu12==12.1.105 in /usr/local/lib/python3.10/dist-packages (from torch>=1.13->stable-baselines3[extra]) (12.1.105)\n",
            "Requirement already satisfied: nvidia-cuda-cupti-cu12==12.1.105 in /usr/local/lib/python3.10/dist-packages (from torch>=1.13->stable-baselines3[extra]) (12.1.105)\n",
            "Requirement already satisfied: nvidia-cudnn-cu12==8.9.2.26 in /usr/local/lib/python3.10/dist-packages (from torch>=1.13->stable-baselines3[extra]) (8.9.2.26)\n",
            "Requirement already satisfied: nvidia-cublas-cu12==12.1.3.1 in /usr/local/lib/python3.10/dist-packages (from torch>=1.13->stable-baselines3[extra]) (12.1.3.1)\n",
            "Requirement already satisfied: nvidia-cufft-cu12==11.0.2.54 in /usr/local/lib/python3.10/dist-packages (from torch>=1.13->stable-baselines3[extra]) (11.0.2.54)\n",
            "Requirement already satisfied: nvidia-curand-cu12==10.3.2.106 in /usr/local/lib/python3.10/dist-packages (from torch>=1.13->stable-baselines3[extra]) (10.3.2.106)\n",
            "Requirement already satisfied: nvidia-cusolver-cu12==11.4.5.107 in /usr/local/lib/python3.10/dist-packages (from torch>=1.13->stable-baselines3[extra]) (11.4.5.107)\n",
            "Requirement already satisfied: nvidia-cusparse-cu12==12.1.0.106 in /usr/local/lib/python3.10/dist-packages (from torch>=1.13->stable-baselines3[extra]) (12.1.0.106)\n",
            "Requirement already satisfied: nvidia-nccl-cu12==2.19.3 in /usr/local/lib/python3.10/dist-packages (from torch>=1.13->stable-baselines3[extra]) (2.19.3)\n",
            "Requirement already satisfied: nvidia-nvtx-cu12==12.1.105 in /usr/local/lib/python3.10/dist-packages (from torch>=1.13->stable-baselines3[extra]) (12.1.105)\n",
            "Requirement already satisfied: triton==2.2.0 in /usr/local/lib/python3.10/dist-packages (from torch>=1.13->stable-baselines3[extra]) (2.2.0)\n",
            "Requirement already satisfied: nvidia-nvjitlink-cu12 in /usr/local/lib/python3.10/dist-packages (from nvidia-cusolver-cu12==11.4.5.107->torch>=1.13->stable-baselines3[extra]) (12.4.127)\n",
            "Requirement already satisfied: pytz>=2020.1 in /usr/local/lib/python3.10/dist-packages (from pandas->stable-baselines3[extra]) (2023.4)\n",
            "Requirement already satisfied: tzdata>=2022.1 in /usr/local/lib/python3.10/dist-packages (from pandas->stable-baselines3[extra]) (2024.1)\n",
            "Requirement already satisfied: markdown-it-py>=2.2.0 in /usr/local/lib/python3.10/dist-packages (from rich->stable-baselines3[extra]) (3.0.0)\n",
            "Requirement already satisfied: pygments<3.0.0,>=2.13.0 in /usr/local/lib/python3.10/dist-packages (from rich->stable-baselines3[extra]) (2.16.1)\n",
            "Requirement already satisfied: importlib-resources in /usr/local/lib/python3.10/dist-packages (from ale-py~=0.8.1->shimmy[atari]~=1.3.0->stable-baselines3[extra]) (6.4.0)\n",
            "Requirement already satisfied: cachetools<6.0,>=2.0.0 in /usr/local/lib/python3.10/dist-packages (from google-auth<3,>=1.6.3->tensorboard>=2.9.1->stable-baselines3[extra]) (5.3.3)\n",
            "Requirement already satisfied: pyasn1-modules>=0.2.1 in /usr/local/lib/python3.10/dist-packages (from google-auth<3,>=1.6.3->tensorboard>=2.9.1->stable-baselines3[extra]) (0.4.0)\n",
            "Requirement already satisfied: rsa<5,>=3.1.4 in /usr/local/lib/python3.10/dist-packages (from google-auth<3,>=1.6.3->tensorboard>=2.9.1->stable-baselines3[extra]) (4.9)\n",
            "Requirement already satisfied: requests-oauthlib>=0.7.0 in /usr/local/lib/python3.10/dist-packages (from google-auth-oauthlib<2,>=0.5->tensorboard>=2.9.1->stable-baselines3[extra]) (1.3.1)\n",
            "Requirement already satisfied: mdurl~=0.1 in /usr/local/lib/python3.10/dist-packages (from markdown-it-py>=2.2.0->rich->stable-baselines3[extra]) (0.1.2)\n",
            "Requirement already satisfied: charset-normalizer<4,>=2 in /usr/local/lib/python3.10/dist-packages (from requests->autorom[accept-rom-license]~=0.6.1->stable-baselines3[extra]) (3.3.2)\n",
            "Requirement already satisfied: idna<4,>=2.5 in /usr/local/lib/python3.10/dist-packages (from requests->autorom[accept-rom-license]~=0.6.1->stable-baselines3[extra]) (3.7)\n",
            "Requirement already satisfied: urllib3<3,>=1.21.1 in /usr/local/lib/python3.10/dist-packages (from requests->autorom[accept-rom-license]~=0.6.1->stable-baselines3[extra]) (2.0.7)\n",
            "Requirement already satisfied: certifi>=2017.4.17 in /usr/local/lib/python3.10/dist-packages (from requests->autorom[accept-rom-license]~=0.6.1->stable-baselines3[extra]) (2024.2.2)\n",
            "Requirement already satisfied: MarkupSafe>=2.1.1 in /usr/local/lib/python3.10/dist-packages (from werkzeug>=1.0.1->tensorboard>=2.9.1->stable-baselines3[extra]) (2.1.5)\n",
            "Requirement already satisfied: mpmath>=0.19 in /usr/local/lib/python3.10/dist-packages (from sympy->torch>=1.13->stable-baselines3[extra]) (1.3.0)\n",
            "Requirement already satisfied: pyasn1<0.7.0,>=0.4.6 in /usr/local/lib/python3.10/dist-packages (from pyasn1-modules>=0.2.1->google-auth<3,>=1.6.3->tensorboard>=2.9.1->stable-baselines3[extra]) (0.6.0)\n",
            "Requirement already satisfied: oauthlib>=3.0.0 in /usr/local/lib/python3.10/dist-packages (from requests-oauthlib>=0.7.0->google-auth-oauthlib<2,>=0.5->tensorboard>=2.9.1->stable-baselines3[extra]) (3.2.2)\n"
          ]
        }
      ],
      "source": [
        "!pip install stable-baselines3[extra] gymnasium matplotlib"
      ]
    },
    {
      "cell_type": "code",
      "source": [
        "!pip install streamlit"
      ],
      "metadata": {
        "colab": {
          "base_uri": "https://localhost:8080/"
        },
        "id": "SNbeu-8ZCMxK",
        "outputId": "ab0d3bed-3159-415a-ea11-4e142753d9ab"
      },
      "execution_count": null,
      "outputs": [
        {
          "output_type": "stream",
          "name": "stdout",
          "text": [
            "Requirement already satisfied: streamlit in /usr/local/lib/python3.10/dist-packages (1.33.0)\n",
            "Requirement already satisfied: altair<6,>=4.0 in /usr/local/lib/python3.10/dist-packages (from streamlit) (4.2.2)\n",
            "Requirement already satisfied: blinker<2,>=1.0.0 in /usr/lib/python3/dist-packages (from streamlit) (1.4)\n",
            "Requirement already satisfied: cachetools<6,>=4.0 in /usr/local/lib/python3.10/dist-packages (from streamlit) (5.3.3)\n",
            "Requirement already satisfied: click<9,>=7.0 in /usr/local/lib/python3.10/dist-packages (from streamlit) (8.1.7)\n",
            "Requirement already satisfied: numpy<2,>=1.19.3 in /usr/local/lib/python3.10/dist-packages (from streamlit) (1.25.2)\n",
            "Requirement already satisfied: packaging<25,>=16.8 in /usr/local/lib/python3.10/dist-packages (from streamlit) (24.0)\n",
            "Requirement already satisfied: pandas<3,>=1.3.0 in /usr/local/lib/python3.10/dist-packages (from streamlit) (2.0.3)\n",
            "Requirement already satisfied: pillow<11,>=7.1.0 in /usr/local/lib/python3.10/dist-packages (from streamlit) (9.4.0)\n",
            "Requirement already satisfied: protobuf<5,>=3.20 in /usr/local/lib/python3.10/dist-packages (from streamlit) (3.20.3)\n",
            "Requirement already satisfied: pyarrow>=7.0 in /usr/local/lib/python3.10/dist-packages (from streamlit) (14.0.2)\n",
            "Requirement already satisfied: requests<3,>=2.27 in /usr/local/lib/python3.10/dist-packages (from streamlit) (2.31.0)\n",
            "Requirement already satisfied: rich<14,>=10.14.0 in /usr/local/lib/python3.10/dist-packages (from streamlit) (13.7.1)\n",
            "Requirement already satisfied: tenacity<9,>=8.1.0 in /usr/local/lib/python3.10/dist-packages (from streamlit) (8.2.3)\n",
            "Requirement already satisfied: toml<2,>=0.10.1 in /usr/local/lib/python3.10/dist-packages (from streamlit) (0.10.2)\n",
            "Requirement already satisfied: typing-extensions<5,>=4.3.0 in /usr/local/lib/python3.10/dist-packages (from streamlit) (4.11.0)\n",
            "Requirement already satisfied: gitpython!=3.1.19,<4,>=3.0.7 in /usr/local/lib/python3.10/dist-packages (from streamlit) (3.1.43)\n",
            "Requirement already satisfied: pydeck<1,>=0.8.0b4 in /usr/local/lib/python3.10/dist-packages (from streamlit) (0.8.1b0)\n",
            "Requirement already satisfied: tornado<7,>=6.0.3 in /usr/local/lib/python3.10/dist-packages (from streamlit) (6.3.3)\n",
            "Requirement already satisfied: watchdog>=2.1.5 in /usr/local/lib/python3.10/dist-packages (from streamlit) (4.0.0)\n",
            "Requirement already satisfied: entrypoints in /usr/local/lib/python3.10/dist-packages (from altair<6,>=4.0->streamlit) (0.4)\n",
            "Requirement already satisfied: jinja2 in /usr/local/lib/python3.10/dist-packages (from altair<6,>=4.0->streamlit) (3.1.3)\n",
            "Requirement already satisfied: jsonschema>=3.0 in /usr/local/lib/python3.10/dist-packages (from altair<6,>=4.0->streamlit) (4.19.2)\n",
            "Requirement already satisfied: toolz in /usr/local/lib/python3.10/dist-packages (from altair<6,>=4.0->streamlit) (0.12.1)\n",
            "Requirement already satisfied: gitdb<5,>=4.0.1 in /usr/local/lib/python3.10/dist-packages (from gitpython!=3.1.19,<4,>=3.0.7->streamlit) (4.0.11)\n",
            "Requirement already satisfied: python-dateutil>=2.8.2 in /usr/local/lib/python3.10/dist-packages (from pandas<3,>=1.3.0->streamlit) (2.8.2)\n",
            "Requirement already satisfied: pytz>=2020.1 in /usr/local/lib/python3.10/dist-packages (from pandas<3,>=1.3.0->streamlit) (2023.4)\n",
            "Requirement already satisfied: tzdata>=2022.1 in /usr/local/lib/python3.10/dist-packages (from pandas<3,>=1.3.0->streamlit) (2024.1)\n",
            "Requirement already satisfied: charset-normalizer<4,>=2 in /usr/local/lib/python3.10/dist-packages (from requests<3,>=2.27->streamlit) (3.3.2)\n",
            "Requirement already satisfied: idna<4,>=2.5 in /usr/local/lib/python3.10/dist-packages (from requests<3,>=2.27->streamlit) (3.7)\n",
            "Requirement already satisfied: urllib3<3,>=1.21.1 in /usr/local/lib/python3.10/dist-packages (from requests<3,>=2.27->streamlit) (2.0.7)\n",
            "Requirement already satisfied: certifi>=2017.4.17 in /usr/local/lib/python3.10/dist-packages (from requests<3,>=2.27->streamlit) (2024.2.2)\n",
            "Requirement already satisfied: markdown-it-py>=2.2.0 in /usr/local/lib/python3.10/dist-packages (from rich<14,>=10.14.0->streamlit) (3.0.0)\n",
            "Requirement already satisfied: pygments<3.0.0,>=2.13.0 in /usr/local/lib/python3.10/dist-packages (from rich<14,>=10.14.0->streamlit) (2.16.1)\n",
            "Requirement already satisfied: smmap<6,>=3.0.1 in /usr/local/lib/python3.10/dist-packages (from gitdb<5,>=4.0.1->gitpython!=3.1.19,<4,>=3.0.7->streamlit) (5.0.1)\n",
            "Requirement already satisfied: MarkupSafe>=2.0 in /usr/local/lib/python3.10/dist-packages (from jinja2->altair<6,>=4.0->streamlit) (2.1.5)\n",
            "Requirement already satisfied: attrs>=22.2.0 in /usr/local/lib/python3.10/dist-packages (from jsonschema>=3.0->altair<6,>=4.0->streamlit) (23.2.0)\n",
            "Requirement already satisfied: jsonschema-specifications>=2023.03.6 in /usr/local/lib/python3.10/dist-packages (from jsonschema>=3.0->altair<6,>=4.0->streamlit) (2023.12.1)\n",
            "Requirement already satisfied: referencing>=0.28.4 in /usr/local/lib/python3.10/dist-packages (from jsonschema>=3.0->altair<6,>=4.0->streamlit) (0.34.0)\n",
            "Requirement already satisfied: rpds-py>=0.7.1 in /usr/local/lib/python3.10/dist-packages (from jsonschema>=3.0->altair<6,>=4.0->streamlit) (0.18.0)\n",
            "Requirement already satisfied: mdurl~=0.1 in /usr/local/lib/python3.10/dist-packages (from markdown-it-py>=2.2.0->rich<14,>=10.14.0->streamlit) (0.1.2)\n",
            "Requirement already satisfied: six>=1.5 in /usr/local/lib/python3.10/dist-packages (from python-dateutil>=2.8.2->pandas<3,>=1.3.0->streamlit) (1.16.0)\n"
          ]
        }
      ]
    },
    {
      "cell_type": "code",
      "source": [
        "# Cell 1: Create organ_bioprint_env.py\n",
        "%%writefile organ_bioprint_env.py\n",
        "import numpy as np\n",
        "import gymnasium as gym\n",
        "from gymnasium import spaces\n",
        "\n",
        "class OrganBioprintEnv(gym.Env):\n",
        "    \"\"\" Detailed environment for 3D bioprinting of a heart model. \"\"\"\n",
        "    def __init__(self, resolution=64, deposition_rate=0.1, velocity_scale=10.0):\n",
        "        super().__init__()\n",
        "        self.resolution = resolution\n",
        "        self.deposition_rate = deposition_rate\n",
        "        self.velocity_scale = velocity_scale\n",
        "        self.material_types = 3  # Myocardium, Endocardium, Epicardium\n",
        "        self.bioprint_env = np.zeros((resolution, resolution, resolution, self.material_types), dtype=np.float32)\n",
        "        self.observation_space = spaces.Box(low=0, high=1, shape=(resolution, resolution, resolution, self.material_types), dtype=np.float32)\n",
        "        self.action_space = spaces.Box(low=0, high=1, shape=(6,), dtype=np.float32)  # Including an extrusion parameter\n",
        "        self.target_structure = self.generate_target_structure()\n",
        "        self.print_head_position = np.array([resolution // 2, resolution // 2, resolution // 2], dtype=np.float32)\n",
        "\n",
        "    def generate_target_structure(self):\n",
        "        target = np.zeros((self.resolution, self.resolution, self.resolution, self.material_types), dtype=np.float32)\n",
        "        r = self.resolution // 2\n",
        "        grid = np.indices((self.resolution, self.resolution, self.resolution))\n",
        "        distance = np.sqrt((grid[0] - r)**2 + (grid[1] - r)**2 + (grid[2] - r)**2)\n",
        "        target[distance < r * 0.5, 0] = 1\n",
        "        target[(distance >= r * 0.5) & (distance < r * 0.75), 1] = 1\n",
        "        target[distance >= r * 0.75, 2] = 1\n",
        "        return target\n",
        "\n",
        "    def step(self, action):\n",
        "        dx, dy, dz, v_adjust, m_select, extrude = action\n",
        "        m_select = int(np.clip(np.round((m_select + 1) * 0.5 * (self.material_types - 1)), 0, self.material_types - 1))\n",
        "        self.print_head_position += np.array([dx, dy, dz], dtype=np.float32) * self.velocity_scale\n",
        "        self.print_head_position = np.clip(self.print_head_position, 0, self.resolution - 1)\n",
        "        x, y, z = self.print_head_position.astype(int)\n",
        "        if extrude > 0.5:  # Extrusion action\n",
        "            self.bioprint_env[x, y, z, m_select] += self.deposition_rate * extrude\n",
        "            self.bioprint_env = np.clip(self.bioprint_env, 0, 1)\n",
        "\n",
        "        reward = -np.sum(np.abs(self.bioprint_env - self.target_structure))\n",
        "        done = np.array_equal(self.bioprint_env, self.target_structure)\n",
        "        info = {\"position\": self.print_head_position.tolist(), \"selected_material\": m_select}\n",
        "        return self.bioprint_env.copy(), reward, done, False, info\n",
        "\n",
        "    def reset(self, *, seed=None, options=None):\n",
        "        super().reset(seed=seed)\n",
        "        self.bioprint_env = np.zeros((self.resolution, self.resolution, self.resolution, self.material_types), dtype=np.float32)\n",
        "        self.print_head_position = np.array([self.resolution // 2, self.resolution // 2, self.resolution // 2], dtype=np.float32)\n",
        "        return self.bioprint_env.copy(), {}"
      ],
      "metadata": {
        "id": "mgHORPwrcpGU",
        "colab": {
          "base_uri": "https://localhost:8080/"
        },
        "outputId": "4e152074-9fdc-41b2-ab8a-d25b68eb1c81"
      },
      "execution_count": null,
      "outputs": [
        {
          "output_type": "stream",
          "name": "stdout",
          "text": [
            "Overwriting organ_bioprint_env.py\n"
          ]
        }
      ]
    },
    {
      "cell_type": "code",
      "source": [
        "# Cell 2: Create train_model.py\n",
        "%%writefile train_model.py\n",
        "from stable_baselines3 import PPO\n",
        "from stable_baselines3.common.vec_env import DummyVecEnv\n",
        "from organ_bioprint_env import OrganBioprintEnv\n",
        "\n",
        "def train_model(total_timesteps=20000, save_path=\"bioprint_heart_model.zip\"):\n",
        "    env = OrganBioprintEnv()\n",
        "    env = DummyVecEnv([lambda: env])\n",
        "\n",
        "    model = PPO(\"MlpPolicy\", env, verbose=1)\n",
        "    model.learn(total_timesteps=total_timesteps)\n",
        "    model.save(save_path)\n",
        "    env.close()\n",
        "    print(f\"Model training complete. Saved to {save_path}\")\n",
        "\n",
        "if __name__ == \"__main__\":\n",
        "    train_model()"
      ],
      "metadata": {
        "id": "p7_BU0AOc8VA",
        "colab": {
          "base_uri": "https://localhost:8080/"
        },
        "outputId": "f026aaf8-66d0-4b25-e0f9-731784b48d4e"
      },
      "execution_count": null,
      "outputs": [
        {
          "output_type": "stream",
          "name": "stdout",
          "text": [
            "Writing train_model.py\n"
          ]
        }
      ]
    },
    {
      "cell_type": "code",
      "source": [
        "# Cell 3: Create bioprinting_app.py\n",
        "%%writefile bioprinting_app.py\n",
        "import streamlit as st\n",
        "import numpy as np\n",
        "import plotly.graph_objects as go\n",
        "from stable_baselines3 import PPO\n",
        "from organ_bioprint_env import OrganBioprintEnv\n",
        "\n",
        "model_path = \"bioprint_heart_model.zip\"\n",
        "model = PPO.load(model_path)\n",
        "env = OrganBioprintEnv()\n",
        "\n",
        "def simulate_step(action):\n",
        "    obs, rewards, done, truncated, info = env.step(action)\n",
        "    return obs, rewards, done, truncated, info\n",
        "\n",
        "def plot_environment(environment_data):\n",
        "    active_voxels = environment_data > 0.1\n",
        "    z, y, x = np.where(active_voxels)\n",
        "    values = environment_data[active_voxels]\n",
        "    fig = go.Figure(data=go.Volume(\n",
        "        x=x, y=y, z=z,\n",
        "        value=values,\n",
        "        isomin=0.1,\n",
        "        isomax=values.max(),\n",
        "        opacity=0.1,\n",
        "        surface_count=20,\n",
        "    ))\n",
        "    fig.update_layout(title=\"3D View of the Bioprinted Heart\")\n",
        "    return fig\n",
        "\n",
        "st.title('3D Heart Bioprinting Simulation')\n",
        "action = st.sidebar.slider(\"Adjust Action Strength\", 0.0, 1.0, 0.5)\n",
        "if st.sidebar.button('Simulate Step'):\n",
        "    action_array = np.array([0.5, 0.5, 0.5, 0.5, 1, action], dtype=np.float32)  # Example action array\n",
        "    obs, rewards, done, truncated, info = simulate_step(action_array)\n",
        "    st.write(\"Observation shape:\", obs.shape)\n",
        "    st.write(\"Reward:\", rewards)\n",
        "    st.write(\"Done:\", done)\n",
        "    st.write(\"Info:\", info)\n",
        "    fig = plot_environment(obs[:, :, :, 0])\n",
        "    st.plotly_chart(fig, use_container_width=True)\n",
        "\n",
        "st.markdown(\"\"\"\n",
        "#### Educational Content\n",
        "- **Phase 1:** Introduction to 3D bioprinting.\n",
        "- **Phase 2:** Materials such as myocardium, endocardium, and epicardium.\n",
        "- **Phase 3:** Bioprinting process and technological challenges.\n",
        "- **Phase 4:** Future prospects and implications of bioprinting in medicine.\n",
        "\"\"\")"
      ],
      "metadata": {
        "id": "TTnGuFqfc_mX",
        "colab": {
          "base_uri": "https://localhost:8080/"
        },
        "outputId": "b00cec14-fb95-438c-f7dc-28b3c2b34015"
      },
      "execution_count": null,
      "outputs": [
        {
          "output_type": "stream",
          "name": "stdout",
          "text": [
            "Writing bioprinting_app.py\n"
          ]
        }
      ]
    },
    {
      "cell_type": "code",
      "source": [
        "# Cell 4: Train the model\n",
        "!python train_model.py"
      ],
      "metadata": {
        "colab": {
          "base_uri": "https://localhost:8080/"
        },
        "id": "TJSKkI3odCds",
        "outputId": "e99d4cf7-cc23-4024-8efd-27d2f822f8a7"
      },
      "execution_count": null,
      "outputs": [
        {
          "output_type": "stream",
          "name": "stdout",
          "text": [
            "2024-04-20 22:19:31.897657: E external/local_xla/xla/stream_executor/cuda/cuda_dnn.cc:9261] Unable to register cuDNN factory: Attempting to register factory for plugin cuDNN when one has already been registered\n",
            "2024-04-20 22:19:31.897726: E external/local_xla/xla/stream_executor/cuda/cuda_fft.cc:607] Unable to register cuFFT factory: Attempting to register factory for plugin cuFFT when one has already been registered\n",
            "2024-04-20 22:19:31.913241: E external/local_xla/xla/stream_executor/cuda/cuda_blas.cc:1515] Unable to register cuBLAS factory: Attempting to register factory for plugin cuBLAS when one has already been registered\n",
            "2024-04-20 22:19:36.630649: W tensorflow/compiler/tf2tensorrt/utils/py_utils.cc:38] TF-TRT Warning: Could not find TensorRT\n",
            "Using cpu device\n",
            "-----------------------------\n",
            "| time/              |      |\n",
            "|    fps             | 19   |\n",
            "|    iterations      | 1    |\n",
            "|    time_elapsed    | 105  |\n",
            "|    total_timesteps | 2048 |\n",
            "-----------------------------\n",
            "Traceback (most recent call last):\n",
            "  File \"/content/train_model.py\", line 16, in <module>\n",
            "  File \"/content/train_model.py\", line 10, in train_model\n",
            "  File \"/usr/local/lib/python3.10/dist-packages/stable_baselines3/ppo/ppo.py\", line 315, in learn\n",
            "    return super().learn(\n",
            "  File \"/usr/local/lib/python3.10/dist-packages/stable_baselines3/common/on_policy_algorithm.py\", line 313, in learn\n",
            "    self.train()\n",
            "  File \"/usr/local/lib/python3.10/dist-packages/stable_baselines3/ppo/ppo.py\", line 217, in train\n",
            "    values, log_prob, entropy = self.policy.evaluate_actions(rollout_data.observations, actions)\n",
            "  File \"/usr/local/lib/python3.10/dist-packages/stable_baselines3/common/policies.py\", line 732, in evaluate_actions\n",
            "    latent_pi, latent_vf = self.mlp_extractor(features)\n",
            "  File \"/usr/local/lib/python3.10/dist-packages/torch/nn/modules/module.py\", line 1511, in _wrapped_call_impl\n",
            "    return self._call_impl(*args, **kwargs)\n",
            "  File \"/usr/local/lib/python3.10/dist-packages/torch/nn/modules/module.py\", line 1520, in _call_impl\n",
            "    return forward_call(*args, **kwargs)\n",
            "  File \"/usr/local/lib/python3.10/dist-packages/stable_baselines3/common/torch_layers.py\", line 222, in forward\n",
            "    return self.forward_actor(features), self.forward_critic(features)\n",
            "  File \"/usr/local/lib/python3.10/dist-packages/stable_baselines3/common/torch_layers.py\", line 228, in forward_critic\n",
            "    return self.value_net(features)\n",
            "  File \"/usr/local/lib/python3.10/dist-packages/torch/nn/modules/module.py\", line 1511, in _wrapped_call_impl\n",
            "    return self._call_impl(*args, **kwargs)\n",
            "  File \"/usr/local/lib/python3.10/dist-packages/torch/nn/modules/module.py\", line 1520, in _call_impl\n",
            "    return forward_call(*args, **kwargs)\n",
            "  File \"/usr/local/lib/python3.10/dist-packages/torch/nn/modules/container.py\", line 217, in forward\n",
            "    input = module(input)\n",
            "  File \"/usr/local/lib/python3.10/dist-packages/torch/nn/modules/module.py\", line 1511, in _wrapped_call_impl\n",
            "    return self._call_impl(*args, **kwargs)\n",
            "  File \"/usr/local/lib/python3.10/dist-packages/torch/nn/modules/module.py\", line 1520, in _call_impl\n",
            "    return forward_call(*args, **kwargs)\n",
            "  File \"/usr/local/lib/python3.10/dist-packages/torch/nn/modules/linear.py\", line 116, in forward\n",
            "    return F.linear(input, self.weight, self.bias)\n",
            "KeyboardInterrupt\n"
          ]
        }
      ]
    },
    {
      "cell_type": "code",
      "source": [
        "# Cell 5: Download the trained model\n",
        "from google.colab import files\n",
        "files.download('bioprint_heart_model.zip')"
      ],
      "metadata": {
        "id": "Gt0o5Hcedc9M",
        "colab": {
          "base_uri": "https://localhost:8080/",
          "height": 305
        },
        "outputId": "986df3d5-7b24-4e71-c30b-f7ff476f93b2"
      },
      "execution_count": null,
      "outputs": [
        {
          "output_type": "error",
          "ename": "FileNotFoundError",
          "evalue": "Cannot find file: bioprint_heart_model.zip",
          "traceback": [
            "\u001b[0;31m---------------------------------------------------------------------------\u001b[0m",
            "\u001b[0;31mFileNotFoundError\u001b[0m                         Traceback (most recent call last)",
            "\u001b[0;32m<ipython-input-33-f1b89a0b3eae>\u001b[0m in \u001b[0;36m<cell line: 3>\u001b[0;34m()\u001b[0m\n\u001b[1;32m      1\u001b[0m \u001b[0;31m# Cell 5: Download the trained model\u001b[0m\u001b[0;34m\u001b[0m\u001b[0;34m\u001b[0m\u001b[0m\n\u001b[1;32m      2\u001b[0m \u001b[0;32mfrom\u001b[0m \u001b[0mgoogle\u001b[0m\u001b[0;34m.\u001b[0m\u001b[0mcolab\u001b[0m \u001b[0;32mimport\u001b[0m \u001b[0mfiles\u001b[0m\u001b[0;34m\u001b[0m\u001b[0;34m\u001b[0m\u001b[0m\n\u001b[0;32m----> 3\u001b[0;31m \u001b[0mfiles\u001b[0m\u001b[0;34m.\u001b[0m\u001b[0mdownload\u001b[0m\u001b[0;34m(\u001b[0m\u001b[0;34m'bioprint_heart_model.zip'\u001b[0m\u001b[0;34m)\u001b[0m\u001b[0;34m\u001b[0m\u001b[0;34m\u001b[0m\u001b[0m\n\u001b[0m",
            "\u001b[0;32m/usr/local/lib/python3.10/dist-packages/google/colab/files.py\u001b[0m in \u001b[0;36mdownload\u001b[0;34m(filename)\u001b[0m\n\u001b[1;32m    223\u001b[0m   \u001b[0;32mif\u001b[0m \u001b[0;32mnot\u001b[0m \u001b[0m_os\u001b[0m\u001b[0;34m.\u001b[0m\u001b[0mpath\u001b[0m\u001b[0;34m.\u001b[0m\u001b[0mexists\u001b[0m\u001b[0;34m(\u001b[0m\u001b[0mfilename\u001b[0m\u001b[0;34m)\u001b[0m\u001b[0;34m:\u001b[0m\u001b[0;34m\u001b[0m\u001b[0;34m\u001b[0m\u001b[0m\n\u001b[1;32m    224\u001b[0m     \u001b[0mmsg\u001b[0m \u001b[0;34m=\u001b[0m \u001b[0;34m'Cannot find file: {}'\u001b[0m\u001b[0;34m.\u001b[0m\u001b[0mformat\u001b[0m\u001b[0;34m(\u001b[0m\u001b[0mfilename\u001b[0m\u001b[0;34m)\u001b[0m\u001b[0;34m\u001b[0m\u001b[0;34m\u001b[0m\u001b[0m\n\u001b[0;32m--> 225\u001b[0;31m     \u001b[0;32mraise\u001b[0m \u001b[0mFileNotFoundError\u001b[0m\u001b[0;34m(\u001b[0m\u001b[0mmsg\u001b[0m\u001b[0;34m)\u001b[0m  \u001b[0;31m# pylint: disable=undefined-variable\u001b[0m\u001b[0;34m\u001b[0m\u001b[0;34m\u001b[0m\u001b[0m\n\u001b[0m\u001b[1;32m    226\u001b[0m \u001b[0;34m\u001b[0m\u001b[0m\n\u001b[1;32m    227\u001b[0m   \u001b[0mcomm_manager\u001b[0m \u001b[0;34m=\u001b[0m \u001b[0m_IPython\u001b[0m\u001b[0;34m.\u001b[0m\u001b[0mget_ipython\u001b[0m\u001b[0;34m(\u001b[0m\u001b[0;34m)\u001b[0m\u001b[0;34m.\u001b[0m\u001b[0mkernel\u001b[0m\u001b[0;34m.\u001b[0m\u001b[0mcomm_manager\u001b[0m\u001b[0;34m\u001b[0m\u001b[0;34m\u001b[0m\u001b[0m\n",
            "\u001b[0;31mFileNotFoundError\u001b[0m: Cannot find file: bioprint_heart_model.zip"
          ]
        }
      ]
    },
    {
      "cell_type": "code",
      "source": [
        "# Cell 6: Save the environment and app files\n",
        "!mv organ_bioprint_env.py bioprinting_app.py /content/"
      ],
      "metadata": {
        "id": "F2y1Khr6df-u"
      },
      "execution_count": null,
      "outputs": []
    },
    {
      "cell_type": "code",
      "source": [
        "# Cell 7: Download the environment and app files\n",
        "from google.colab import files\n",
        "files.download('/content/organ_bioprint_env.py')\n",
        "files.download('/content/bioprinting_app.py')"
      ],
      "metadata": {
        "id": "SeGixLG3diJ0"
      },
      "execution_count": null,
      "outputs": []
    },
    {
      "cell_type": "code",
      "source": [
        "# Cell 1: Create organ_bioprint_env.py\n",
        "%%writefile organ_bioprint_env.py\n",
        "import numpy as np\n",
        "import gymnasium as gym\n",
        "from gymnasium import spaces\n",
        "\n",
        "class OrganBioprintEnv(gym.Env):\n",
        "    def __init__(self, resolution=32):\n",
        "        super().__init__()\n",
        "        self.resolution = resolution\n",
        "        self.bioprint_env = np.zeros((resolution, resolution, resolution), dtype=np.float32)\n",
        "        self.observation_space = spaces.Box(low=0, high=1, shape=(resolution, resolution, resolution), dtype=np.float32)\n",
        "        self.action_space = spaces.Box(low=-1, high=1, shape=(4,), dtype=np.float32)\n",
        "        self.target_structure = self.generate_target_structure()\n",
        "        self.print_head_position = np.array([resolution // 2, resolution // 2, resolution // 2], dtype=np.float32)\n",
        "\n",
        "    def generate_target_structure(self):\n",
        "        target = np.zeros((self.resolution, self.resolution, self.resolution), dtype=np.float32)\n",
        "        r = self.resolution // 2\n",
        "        grid = np.indices((self.resolution, self.resolution, self.resolution))\n",
        "        distance = np.sqrt((grid[0] - r)**2 + (grid[1] - r)**2 + (grid[2] - r)**2)\n",
        "        target[distance < r] = 1\n",
        "        return target\n",
        "\n",
        "    def step(self, action):\n",
        "        dx, dy, dz, extrude = action\n",
        "        self.print_head_position += np.array([dx, dy, dz], dtype=np.float32) * 2\n",
        "        self.print_head_position = np.clip(self.print_head_position, 0, self.resolution - 1)\n",
        "        x, y, z = self.print_head_position.astype(int)\n",
        "        if extrude > 0:\n",
        "            self.bioprint_env[x, y, z] = 1\n",
        "\n",
        "        reward = -np.sum(np.abs(self.bioprint_env - self.target_structure))\n",
        "        done = np.array_equal(self.bioprint_env, self.target_structure)\n",
        "        info = {\"position\": self.print_head_position.tolist()}\n",
        "        return self.bioprint_env.copy(), reward, done, False, info\n",
        "\n",
        "    def reset(self, *, seed=None, options=None):\n",
        "        super().reset(seed=seed)\n",
        "        self.bioprint_env = np.zeros((self.resolution, self.resolution, self.resolution), dtype=np.float32)\n",
        "        self.print_head_position = np.array([self.resolution // 2, self.resolution // 2, self.resolution // 2], dtype=np.float32)\n",
        "        return self.bioprint_env.copy(), {}\n",
        "\n",
        "# Cell 2: Create bioprinting_app.py\n",
        "%%writefile bioprinting_app.py\n",
        "import streamlit as st\n",
        "import numpy as np\n",
        "import plotly.graph_objects as go\n",
        "from organ_bioprint_env import OrganBioprintEnv\n",
        "\n",
        "env = OrganBioprintEnv()\n",
        "\n",
        "def simulate_step(action):\n",
        "    obs, rewards, done, truncated, info = env.step(action)\n",
        "    return obs, rewards, done, truncated, info\n",
        "\n",
        "def plot_environment(environment_data):\n",
        "    active_voxels = environment_data > 0.5\n",
        "    z, y, x = np.where(active_voxels)\n",
        "    fig = go.Figure(data=[go.Scatter3d(x=x, y=y, z=z, mode='markers', marker=dict(size=3, color=z, colorscale='Viridis', opacity=0.8))])\n",
        "    fig.update_layout(title=\"3D View of the Bioprinted Structure\", scene=dict(xaxis_title='X', yaxis_title='Y', zaxis_title='Z'))\n",
        "    return fig\n",
        "\n",
        "st.title('3D Bioprinting Simulation')\n",
        "dx = st.sidebar.slider(\"X-axis Movement\", -1.0, 1.0, 0.0)\n",
        "dy = st.sidebar.slider(\"Y-axis Movement\", -1.0, 1.0, 0.0)\n",
        "dz = st.sidebar.slider(\"Z-axis Movement\", -1.0, 1.0, 0.0)\n",
        "extrude = st.sidebar.slider(\"Extrusion\", 0.0, 1.0, 0.0)\n",
        "\n",
        "if st.sidebar.button('Simulate Step'):\n",
        "    action_array = np.array([dx, dy, dz, extrude], dtype=np.float32)\n",
        "    obs, rewards, done, truncated, info = simulate_step(action_array)\n",
        "    st.write(\"Reward:\", rewards)\n",
        "    st.write(\"Done:\", done)\n",
        "    fig = plot_environment(obs)\n",
        "    st.plotly_chart(fig, use_container_width=True)\n",
        "\n",
        "st.markdown(\"\"\"\n",
        "#### Educational Content\n",
        "- **Phase 1:** Introduction to 3D bioprinting.\n",
        "- **Phase 2:** Bioprinting process and technological challenges.\n",
        "- **Phase 3:** Future prospects and implications of bioprinting in medicine.\n",
        "\"\"\")\n",
        "\n",
        "# Cell 3: Run the Streamlit app\n",
        "!streamlit run bioprinting_app.py"
      ],
      "metadata": {
        "id": "4KMyiFI6lfGY"
      },
      "execution_count": null,
      "outputs": []
    },
    {
      "cell_type": "code",
      "source": [
        "# Cell 1: Create organ_bioprint_env.py\n",
        "%%writefile organ_bioprint_env.py\n",
        "import numpy as np\n",
        "import gymnasium as gym\n",
        "from gymnasium import spaces\n",
        "\n",
        "class OrganBioprintEnv(gym.Env):\n",
        "    def __init__(self, resolution=32):\n",
        "        super().__init__()\n",
        "        self.resolution = resolution\n",
        "        self.bioprint_env = np.zeros((resolution, resolution, resolution), dtype=np.float32)\n",
        "        self.observation_space = spaces.Box(low=0, high=1, shape=(resolution, resolution, resolution), dtype=np.float32)\n",
        "        self.action_space = spaces.Box(low=-1, high=1, shape=(4,), dtype=np.float32)\n",
        "        self.target_structure = self.generate_target_structure()\n",
        "        self.print_head_position = np.array([resolution // 2, resolution // 2, resolution // 2], dtype=np.float32)\n",
        "\n",
        "    def generate_target_structure(self):\n",
        "        target = np.zeros((self.resolution, self.resolution, self.resolution), dtype=np.float32)\n",
        "        r = self.resolution // 4\n",
        "        cx, cy, cz = self.resolution // 2, self.resolution // 2, self.resolution // 2\n",
        "        for x in range(self.resolution):\n",
        "            for y in range(self.resolution):\n",
        "                for z in range(self.resolution):\n",
        "                    if (x - cx)**2 + (y - cy)**2 + (z - cz)**2 <= r**2:\n",
        "                        target[x, y, z] = 1\n",
        "        return target\n",
        "\n",
        "    def step(self, action):\n",
        "        dx, dy, dz, extrude = action\n",
        "        self.print_head_position += np.array([dx, dy, dz], dtype=np.float32) * 2\n",
        "        self.print_head_position = np.clip(self.print_head_position, 0, self.resolution - 1)\n",
        "        x, y, z = self.print_head_position.astype(int)\n",
        "        if extrude > 0:\n",
        "            self.bioprint_env[x, y, z] = 1\n",
        "\n",
        "        reward = -np.sum(np.abs(self.bioprint_env - self.target_structure))\n",
        "        done = np.array_equal(self.bioprint_env, self.target_structure)\n",
        "        info = {\"position\": self.print_head_position.tolist()}\n",
        "        return self.bioprint_env.copy(), reward, done, False, info\n",
        "\n",
        "    def reset(self, *, seed=None, options=None):\n",
        "        super().reset(seed=seed)\n",
        "        self.bioprint_env = np.zeros((self.resolution, self.resolution, self.resolution), dtype=np.float32)\n",
        "        self.print_head_position = np.array([self.resolution // 2, self.resolution // 2, self.resolution // 2], dtype=np.float32)\n",
        "        return self.bioprint_env.copy(), {}\n",
        "\n",
        "# Cell 2: Create bioprinting_app.py\n",
        "%%writefile bioprinting_app.py\n",
        "import streamlit as st\n",
        "import numpy as np\n",
        "import plotly.graph_objects as go\n",
        "from organ_bioprint_env import OrganBioprintEnv\n",
        "\n",
        "env = OrganBioprintEnv()\n",
        "\n",
        "def simulate_step(action):\n",
        "    obs, rewards, done, truncated, info = env.step(action)\n",
        "    return obs, rewards, done, truncated, info\n",
        "\n",
        "def plot_environment(environment_data):\n",
        "    active_voxels = environment_data > 0.5\n",
        "    z, y, x = np.where(active_voxels)\n",
        "    fig = go.Figure(data=[go.Scatter3d(x=x, y=y, z=z, mode='markers', marker=dict(size=3, color=z, colorscale='Viridis', opacity=0.8))])\n",
        "    fig.update_layout(title=\"3D View of the Bioprinted Structure\", scene=dict(xaxis_title='X', yaxis_title='Y', zaxis_title='Z'))\n",
        "    return fig\n",
        "\n",
        "st.title('3D Bioprinting Simulation')\n",
        "dx = st.sidebar.slider(\"X-axis Movement\", -1.0, 1.0, 0.0)\n",
        "dy = st.sidebar.slider(\"Y-axis Movement\", -1.0, 1.0, 0.0)\n",
        "dz = st.sidebar.slider(\"Z-axis Movement\", -1.0, 1.0, 0.0)\n",
        "extrude = st.sidebar.slider(\"Extrusion\", 0.0, 1.0, 0.0)\n",
        "\n",
        "if st.sidebar.button('Simulate Step'):\n",
        "    action_array = np.array([dx, dy, dz, extrude], dtype=np.float32)\n",
        "    obs, rewards, done, truncated, info = simulate_step(action_array)\n",
        "    st.write(\"Reward:\", rewards)\n",
        "    st.write(\"Done:\", done)\n",
        "    fig = plot_environment(obs)\n",
        "    st.plotly_chart(fig, use_container_width=True)\n",
        "\n",
        "st.markdown(\"\"\"\n",
        "#### Educational Content\n",
        "- **Phase 1:** Introduction to 3D bioprinting.\n",
        "- **Phase 2:** Bioprinting process and technological challenges.\n",
        "- **Phase 3:** Future prospects and implications of bioprinting in medicine.\n",
        "\"\"\")\n",
        "\n",
        "# Cell 3: Install dependencies\n",
        "!pip install streamlit plotly numpy gymnasium\n",
        "\n",
        "# Cell 4: Run the Streamlit app\n",
        "!streamlit run bioprinting_app.py"
      ],
      "metadata": {
        "colab": {
          "base_uri": "https://localhost:8080/"
        },
        "id": "3KoCIdpxn1zg",
        "outputId": "d71709a2-6da8-4fae-809f-52468183b760"
      },
      "execution_count": null,
      "outputs": [
        {
          "output_type": "stream",
          "name": "stdout",
          "text": [
            "Writing organ_bioprint_env.py\n"
          ]
        }
      ]
    }
  ]
}