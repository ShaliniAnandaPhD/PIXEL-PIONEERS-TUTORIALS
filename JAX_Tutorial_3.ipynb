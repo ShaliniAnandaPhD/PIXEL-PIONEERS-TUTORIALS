{
  "nbformat": 4,
  "nbformat_minor": 0,
  "metadata": {
    "colab": {
      "provenance": [],
      "authorship_tag": "ABX9TyPn2JQ4+9bhkSesCSDUh7wN",
      "include_colab_link": true
    },
    "kernelspec": {
      "name": "python3",
      "display_name": "Python 3"
    },
    "language_info": {
      "name": "python"
    }
  },
  "cells": [
    {
      "cell_type": "markdown",
      "metadata": {
        "id": "view-in-github",
        "colab_type": "text"
      },
      "source": [
        "<a href=\"https://colab.research.google.com/github/ShaliniAnandaPhD/PIXEL-PIONEERS-TUTORIALS/blob/main/JAX_Tutorial_3.ipynb\" target=\"_parent\"><img src=\"https://colab.research.google.com/assets/colab-badge.svg\" alt=\"Open In Colab\"/></a>"
      ]
    },
    {
      "cell_type": "code",
      "execution_count": null,
      "metadata": {
        "id": "90CMxaCRM4br"
      },
      "outputs": [],
      "source": []
    },
    {
      "cell_type": "markdown",
      "source": [
        "Nutrient Recommendation System:\n",
        "\n",
        "Generate synthetic dataset of individuals with features like age, weight, activity levels etc and target daily recommended intakes for nutrients like protein, vitamins, minerals.\n",
        "Explore JAX for OOP-style modular neural network construction\n",
        "Build a multi-task feedforward neural network that predicts recommended nutrient intakes\n",
        "Train with JAX accelerated gradients and Optimizer API\n",
        "Evaluate predictions compared to true synthetic labels\n",
        "Discuss enhancements like custom neural network layers, regularization, ensembling"
      ],
      "metadata": {
        "id": "MtKVeHcWUcKr"
      }
    },
    {
      "cell_type": "markdown",
      "source": [
        "Generate a Synthetic Dataset:\n",
        "\n",
        "Create a function to generate synthetic data with features like age, weight, activity levels, etc., and target daily recommended intakes for nutrients.\n",
        "Ensure the data is diverse and covers a realistic range of values."
      ],
      "metadata": {
        "id": "5EQntCcmwgy9"
      }
    },
    {
      "cell_type": "markdown",
      "source": [
        "Explore JAX for OOP-Style Modular Neural Network Construction:\n",
        "\n",
        "Define a class for the neural network using JAX.\n",
        "Implement methods for forward pass and any custom layers or functions."
      ],
      "metadata": {
        "id": "m5D28KTQwkQc"
      }
    },
    {
      "cell_type": "markdown",
      "source": [
        "Build a Multi-Task Feedforward Neural Network:\n",
        "\n",
        "This network will predict multiple outputs (nutrient intakes).\n",
        "Use appropriate loss functions and metrics for multi-task learning."
      ],
      "metadata": {
        "id": "XVAnWOUXwuCQ"
      }
    },
    {
      "cell_type": "markdown",
      "source": [
        "Training with JAX Accelerated Gradients and Optimizer API:\n",
        "\n",
        "Utilize JAX's autodiff capabilities for gradient computation.\n",
        "Use an optimizer from JAX's optimizer module for updating model parameters.\n"
      ],
      "metadata": {
        "id": "K4UVEobcwvHF"
      }
    },
    {
      "cell_type": "markdown",
      "source": [
        "Generate Synthetic Dataset\n",
        "This cell generates your synthetic dataset with given features and targets."
      ],
      "metadata": {
        "id": "W9GbhWlhzgQ6"
      }
    },
    {
      "cell_type": "code",
      "source": [
        "def generate_data(num_samples=1000):\n",
        "    np.random.seed(0)\n",
        "    ages = np.random.randint(18, 80, num_samples)\n",
        "    weights = np.random.normal(70, 15, num_samples)\n",
        "    activity_levels = np.random.choice(['sedentary', 'moderate', 'active'], num_samples)\n",
        "    health_conditions = np.random.choice(['healthy', 'precondition', 'conditioned'], num_samples)\n",
        "\n",
        "    protein_intake = weights * 0.8 + ages * 0.3\n",
        "    vitamin_intake = 500 + (weights - 70) * 10\n",
        "    mineral_intake = 200 + (ages / 80) * 600\n",
        "\n",
        "    features = np.column_stack((ages, weights, activity_levels, health_conditions))\n",
        "    targets = np.column_stack((protein_intake, vitamin_intake, mineral_intake))\n",
        "    return features, targets\n",
        "\n",
        "X, y = generate_data()\n"
      ],
      "metadata": {
        "id": "bMwNjB38zd7u"
      },
      "execution_count": 23,
      "outputs": []
    },
    {
      "cell_type": "markdown",
      "source": [
        "Preprocess Data\n",
        "This cell preprocesses the data, ensuring that the features are scaled and encoded appropriately."
      ],
      "metadata": {
        "id": "zDJ7rbbKzjwe"
      }
    },
    {
      "cell_type": "code",
      "source": [
        "preprocess_pipeline = ColumnTransformer([\n",
        "    ('scale', StandardScaler(), [0, 1]),  # Scale age and weight\n",
        "    ('onehot', OneHotEncoder(sparse_output=False), [2, 3]),  # One-hot encode lifestyle and health conditions\n",
        "])\n",
        "\n",
        "def preprocess(X):\n",
        "    return preprocess_pipeline.fit_transform(X).astype(np.float32)\n",
        "\n",
        "X_processed = preprocess(X)\n"
      ],
      "metadata": {
        "id": "apqNXaJiznLA"
      },
      "execution_count": 24,
      "outputs": []
    },
    {
      "cell_type": "markdown",
      "source": [
        "Define the Neural Network Class"
      ],
      "metadata": {
        "id": "1IcX_sVYzsqr"
      }
    },
    {
      "cell_type": "code",
      "source": [
        "class NutrientModel(nn.Module):\n",
        "    @nn.compact\n",
        "    def __call__(self, x):\n",
        "        x = nn.Dense(128)(x)\n",
        "        x = nn.relu(x)\n",
        "        x = nn.Dense(64)(x)\n",
        "        x = nn.relu(x)\n",
        "        x = nn.Dense(3)(x)  # 3 outputs for protein, vitamin, mineral intakes\n",
        "        return x\n"
      ],
      "metadata": {
        "id": "WvnXryHCzwUs"
      },
      "execution_count": 25,
      "outputs": []
    },
    {
      "cell_type": "markdown",
      "source": [
        "Training Setup\n",
        "This cell sets up the model, parameters, and optimizer."
      ],
      "metadata": {
        "id": "zO4nZN7Xzyhk"
      }
    },
    {
      "cell_type": "code",
      "source": [
        "model = NutrientModel()\n",
        "key = jax.random.PRNGKey(0)\n",
        "sample_input = X_processed[:1]\n",
        "params = model.init(key, sample_input)['params']\n",
        "optimizer = optax.adam(1e-3)\n",
        "state = optimizer.init(params)\n"
      ],
      "metadata": {
        "id": "4YIMIFu9z1TA"
      },
      "execution_count": 26,
      "outputs": []
    },
    {
      "cell_type": "markdown",
      "source": [
        "Training Step Function\n",
        "This cell defines the function for a training step."
      ],
      "metadata": {
        "id": "AIkNekOYz3pe"
      }
    },
    {
      "cell_type": "code",
      "source": [
        "def train_step(model, params, state, x, y, optimizer):\n",
        "    def loss_fn(params):\n",
        "        preds = model.apply({'params': params}, x)\n",
        "        return jnp.mean((preds - y) ** 2)\n",
        "\n",
        "    grads = jax.grad(loss_fn)(params)\n",
        "    updates, new_state = optimizer.update(grads, state)\n",
        "    new_params = optax.apply_updates(params, updates)\n",
        "    return new_params, new_state\n"
      ],
      "metadata": {
        "id": "0nHcUjQ4z6Vk"
      },
      "execution_count": 27,
      "outputs": []
    },
    {
      "cell_type": "markdown",
      "source": [
        "Training Loop\n",
        "This cell contains the training loop."
      ],
      "metadata": {
        "id": "z6o3XekXz8pE"
      }
    },
    {
      "cell_type": "code",
      "source": [
        "for epoch in range(10):\n",
        "    for i in range(0, len(X_processed), 32):\n",
        "        xi = X_processed[i:i + 32]\n",
        "        yi = y[i:i + 32]\n",
        "        params, state = train_step(model, params, state, xi, yi, optimizer)\n"
      ],
      "metadata": {
        "id": "JgdNSQ5kz_uy"
      },
      "execution_count": 28,
      "outputs": []
    },
    {
      "cell_type": "markdown",
      "source": [
        "Data Splitting\n",
        "This cell splits the data into training and validation sets."
      ],
      "metadata": {
        "id": "YgQ2lfWz0EG7"
      }
    },
    {
      "cell_type": "code",
      "source": [
        "X_train, X_val, y_train, y_val = train_test_split(X_processed, y, test_size=0.2, random_state=42)\n"
      ],
      "metadata": {
        "id": "fGhujdLy0I0H"
      },
      "execution_count": 29,
      "outputs": []
    },
    {
      "cell_type": "markdown",
      "source": [
        "Evaluation Function\n",
        "This cell defines the function to evaluate the model.\n",
        "\n"
      ],
      "metadata": {
        "id": "zME43pr80Mpg"
      }
    },
    {
      "cell_type": "code",
      "source": [
        "def evaluate_model(model, params, X, y):\n",
        "    preds = jax.vmap(lambda x: model.apply({'params': params}, x))(X)\n",
        "    return jnp.mean((preds - y) ** 2)\n"
      ],
      "metadata": {
        "id": "il4JsbcA0OqA"
      },
      "execution_count": 30,
      "outputs": []
    },
    {
      "cell_type": "markdown",
      "source": [
        "Model Evaluation\n",
        "This cell evaluates the model after each training epoch."
      ],
      "metadata": {
        "id": "dhpGGrur0TO0"
      }
    },
    {
      "cell_type": "code",
      "source": [
        "for epoch in range(10):\n",
        "    for i in range(0, len(X_train), 32):\n",
        "        xi = X_train[i:i + 32]\n",
        "        yi = y_train[i:i + 32]\n",
        "        params, state = train_step(model, params, state, xi, yi, optimizer)\n",
        "\n",
        "    val_loss = evaluate_model(model, params, X_val, y_val)\n",
        "    print(f\"Epoch {epoch + 1}: Validation Loss: {val_loss:.4f}\")\n"
      ],
      "metadata": {
        "colab": {
          "base_uri": "https://localhost:8080/"
        },
        "id": "5QW8d70x0UNt",
        "outputId": "38f4c7c3-4c18-4840-84ab-604330334bf8"
      },
      "execution_count": 31,
      "outputs": [
        {
          "output_type": "stream",
          "name": "stdout",
          "text": [
            "Epoch 1: Validation Loss: 7529.7271\n",
            "Epoch 2: Validation Loss: 7394.5317\n",
            "Epoch 3: Validation Loss: 7256.1152\n",
            "Epoch 4: Validation Loss: 7113.0967\n",
            "Epoch 5: Validation Loss: 6963.6729\n",
            "Epoch 6: Validation Loss: 6806.1211\n",
            "Epoch 7: Validation Loss: 6638.5610\n",
            "Epoch 8: Validation Loss: 6459.1846\n",
            "Epoch 9: Validation Loss: 6266.1938\n",
            "Epoch 10: Validation Loss: 6057.4268\n"
          ]
        }
      ]
    },
    {
      "cell_type": "code",
      "source": [
        "def demo_prediction(model, params, sample_features, preprocess_pipeline):\n",
        "    sample_features_array = np.array([sample_features], dtype=object)\n",
        "    sample_features_processed = preprocess_pipeline.transform(sample_features_array).astype(np.float32)\n",
        "\n",
        "    print(\"Processed features shape:\", sample_features_processed.shape)  # Debugging line\n",
        "    if sample_features_processed.shape[1] != 8:\n",
        "        raise ValueError(f\"Shape mismatch after preprocessing. Expected 8 features, got {sample_features_processed.shape[1]}\")\n",
        "\n",
        "    predicted_intake = model.apply({'params': params}, sample_features_processed)\n",
        "    return predicted_intake\n",
        "\n",
        "sample_features = [30, 70, 'active', 'healthy']\n",
        "predicted_intake = demo_prediction(model, params, sample_features, preprocess_pipeline)\n",
        "print(\"Predicted Nutrient Intakes:\", predicted_intake)\n"
      ],
      "metadata": {
        "colab": {
          "base_uri": "https://localhost:8080/"
        },
        "id": "_2kH8p-B0bos",
        "outputId": "dd2abdb1-38cf-47e1-9f23-18d92d784206"
      },
      "execution_count": 32,
      "outputs": [
        {
          "output_type": "stream",
          "name": "stdout",
          "text": [
            "Processed features shape: (1, 8)\n",
            "Predicted Nutrient Intakes: [[ 60.026802 420.9478   457.3685  ]]\n"
          ]
        }
      ]
    }
  ]
}