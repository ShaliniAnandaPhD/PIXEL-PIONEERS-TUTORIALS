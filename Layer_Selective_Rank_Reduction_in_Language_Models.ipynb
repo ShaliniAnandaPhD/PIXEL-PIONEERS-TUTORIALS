{
  "nbformat": 4,
  "nbformat_minor": 0,
  "metadata": {
    "colab": {
      "provenance": [],
      "authorship_tag": "ABX9TyPw7GjxkLqZZqqq81q2ggk2",
      "include_colab_link": true
    },
    "kernelspec": {
      "name": "python3",
      "display_name": "Python 3"
    },
    "language_info": {
      "name": "python"
    }
  },
  "cells": [
    {
      "cell_type": "markdown",
      "metadata": {
        "id": "view-in-github",
        "colab_type": "text"
      },
      "source": [
        "<a href=\"https://colab.research.google.com/github/ShaliniAnandaPhD/PIXEL-PIONEERS-TUTORIALS/blob/main/Layer_Selective_Rank_Reduction_in_Language_Models.ipynb\" target=\"_parent\"><img src=\"https://colab.research.google.com/assets/colab-badge.svg\" alt=\"Open In Colab\"/></a>"
      ]
    },
    {
      "cell_type": "code",
      "execution_count": null,
      "metadata": {
        "colab": {
          "base_uri": "https://localhost:8080/"
        },
        "id": "Oguy-rOIaATT",
        "outputId": "e4618d08-3818-4cac-b9c3-449f83822d13"
      },
      "outputs": [
        {
          "output_type": "stream",
          "name": "stdout",
          "text": [
            "Name: torch\n",
            "Version: 2.1.0+cu121\n",
            "Summary: Tensors and Dynamic neural networks in Python with strong GPU acceleration\n",
            "Home-page: https://pytorch.org/\n",
            "Author: PyTorch Team\n",
            "Author-email: packages@pytorch.org\n",
            "License: BSD-3\n",
            "Location: /usr/local/lib/python3.10/dist-packages\n",
            "Requires: filelock, fsspec, jinja2, networkx, sympy, triton, typing-extensions\n",
            "Required-by: fastai, torchaudio, torchdata, torchtext, torchvision\n"
          ]
        }
      ],
      "source": [
        "!pip show torch || pip install torch\n"
      ]
    },
    {
      "cell_type": "markdown",
      "source": [
        "\n",
        "1. **Model Definition:** The example defines a custom neural network class `SimpleLanguageModelLASER` for a language model using PyTorch. This class includes an embedding layer, an LSTM layer, and a fully connected layer to predict the next word in a sequence.\n",
        "\n",
        "2. **Layer-Selective Rank Reduction:** It introduces a technique called layer-selective rank reduction (LASER) to improve model efficiency by reducing the complexity of the LSTM layer without significant performance loss. This is achieved by selectively pruning the weights of the LSTM layer.\n",
        "\n",
        "3. **Singular Value Decomposition (SVD):** The LASER technique uses SVD, a mathematical method, to decompose and reconstruct the LSTM's weight matrices with a lower rank specified by the user, effectively compressing the model's parameters.\n",
        "\n",
        "4. **Model Initialization with Parameters:** The model is instantiated with specific parameters like vocabulary size, embedding dimension, hidden dimension, and the rank reduction configuration, which dictates how much to compress the LSTM weights.\n",
        "\n",
        "5. **Input Processing and Prediction:** An example input is created as a batch of random token indices, which is then fed into the model. The model processes this input through its layers to generate predictions for each token in the sequence.\n",
        "\n",
        "6. **Output Demonstration:** The example concludes by printing the shape of the output predictions tensor, demonstrating the model's capability to generate word predictions across a specified sequence length and batch size, based on the reduced-rank LSTM layer.\n",
        "\n",
        "This example illustrates how to implement and apply the concept of layer-selective rank reduction within a neural network model to potentially enhance computational efficiency while maintaining or even improving performance on language-related tasks."
      ],
      "metadata": {
        "id": "BYEOeunQa_RW"
      }
    },
    {
      "cell_type": "code",
      "source": [
        "import torch\n",
        "import torch.nn as nn\n",
        "import torch.nn.functional as F\n",
        "\n",
        "class SimpleLanguageModelLASER(nn.Module):\n",
        "    def __init__(self, vocab_size, embedding_dim, hidden_dim, rank_reduction=None):\n",
        "        super(SimpleLanguageModelLASER, self).__init__()\n",
        "        self.embedding = nn.Embedding(vocab_size, embedding_dim)\n",
        "        self.rnn = nn.LSTM(embedding_dim, hidden_dim)\n",
        "        self.fc = nn.Linear(hidden_dim, vocab_size)\n",
        "        self.rank_reduction = rank_reduction\n",
        "\n",
        "        if rank_reduction is not None:\n",
        "            self.apply_rank_reduction()\n",
        "\n",
        "    def apply_rank_reduction(self):\n",
        "        \"\"\"\n",
        "        Applies layer-selective rank reduction to the LSTM layer based on specified ranks.\n",
        "        \"\"\"\n",
        "        for name, param in self.named_parameters():\n",
        "            if 'rnn' in name and 'weight' in name:\n",
        "                U, S, V = torch.linalg.svd(param.data, full_matrices=False)\n",
        "                rank = self.rank_reduction.get(name, None)\n",
        "                if rank is not None:\n",
        "                    S_reduced = S[:rank]\n",
        "                    U_reduced = U[:, :rank]\n",
        "                    V_reduced = V[:, :rank]\n",
        "                    reduced_matrix = torch.mm(U_reduced, torch.mm(torch.diag(S_reduced), V_reduced.t()))\n",
        "                    param.data = reduced_matrix\n",
        "\n",
        "    def forward(self, x):\n",
        "        embedded = self.embedding(x)\n",
        "        output, (hidden, cell) = self.rnn(embedded)\n",
        "        predictions = self.fc(output)\n",
        "        return predictions\n",
        "\n",
        "# Example usage\n",
        "vocab_size = 10000  # Example vocabulary size\n",
        "embedding_dim = 400  # Example embedding dimension\n",
        "hidden_dim = 256  # Example hidden dimension\n",
        "rank_reduction = {'weight_ih_l0': 100, 'weight_hh_l0': 100}  # Example rank reductions for LSTM weights\n",
        "\n",
        "model = SimpleLanguageModelLASER(vocab_size, embedding_dim, hidden_dim, rank_reduction)\n",
        "\n",
        "# Example input\n",
        "x = torch.randint(0, vocab_size, (10, 5))  # (sequence_length, batch_size)\n",
        "predictions = model(x)\n",
        "print(predictions.shape)  # Expected output: (sequence_length, batch_size, vocab_size)\n"
      ],
      "metadata": {
        "colab": {
          "base_uri": "https://localhost:8080/"
        },
        "id": "XcL-thZ-aYxV",
        "outputId": "e704ef1b-945f-41ad-9873-b46aff405455"
      },
      "execution_count": null,
      "outputs": [
        {
          "output_type": "stream",
          "name": "stdout",
          "text": [
            "torch.Size([10, 5, 10000])\n"
          ]
        }
      ]
    },
    {
      "cell_type": "markdown",
      "source": [
        "This code demonstrates a conceptual approach to rank reduction in neural network weights using PyTorch, aiming to simulate the effect without altering the actual model architecture:\n",
        "\n",
        "1. **Neural Network Definition:** A simple neural network, `SimpleNeuralNet`, is defined with one hidden layer. It consists of two fully connected layers (`fc1` and `fc2`) connecting the input layer to the hidden layer and the hidden layer to the output layer, respectively.\n",
        "\n",
        "2. **Activation Function:** Between the first and second layers, a ReLU (Rectified Linear Unit) activation function is applied to introduce non-linearity, enhancing the model's ability to learn complex patterns.\n",
        "\n",
        "3. **Simulating Rank Reduction:** The `simulate_rank_reduction` function is introduced to simulate the effect of reducing the rank of a weight matrix. It uses Singular Value Decomposition (SVD) to decompose the original weight matrix and then reconstructs it with a reduced rank by zeroing out smaller singular values, simulating the rank reduction.\n",
        "\n",
        "4. **Maintaining Original Dimensions:** Despite simulating rank reduction, the function ensures the dimensions of the weight matrix remain unchanged. This is crucial for maintaining compatibility with the model's architecture and operational requirements.\n",
        "\n",
        "5. **Debugging Prints:** The code includes print statements for debugging and illustration purposes, showing the shapes of decomposed matrices (U, S, V) from SVD, the original weight matrix, and the simulated reduced-weight matrix to help understand the process and its effects.\n",
        "\n",
        "6. **Model Testing with Unmodified Weights:** Finally, the model is tested with an example input tensor to demonstrate its functionality. It's important to note that the actual weights of the model are not modified by the rank reduction simulation; this step is purely conceptual and intended for demonstration and educational purposes.\n",
        "\n",
        "This code provides a practical insight into how rank reduction could theoretically be applied to neural network weights, illustrating the potential for model optimization while ensuring the structural integrity and operational functionality of the model are preserved."
      ],
      "metadata": {
        "id": "DC7mLuSheXz6"
      }
    },
    {
      "cell_type": "code",
      "source": [
        "import torch\n",
        "import torch.nn as nn\n",
        "\n",
        "# Define a simple neural network model\n",
        "class SimpleNeuralNet(nn.Module):\n",
        "    def __init__(self, input_size, hidden_size, output_size):\n",
        "        super(SimpleNeuralNet, self).__init__()\n",
        "        self.fc1 = nn.Linear(input_size, hidden_size)\n",
        "        self.fc2 = nn.Linear(hidden_size, output_size)\n",
        "\n",
        "    def forward(self, x):\n",
        "        x = torch.relu(self.fc1(x))  # Apply ReLU activation between layers\n",
        "        x = self.fc2(x)\n",
        "        return x\n",
        "\n",
        "# Function to simulate the effect of rank reduction on a weight matrix\n",
        "def simulate_rank_reduction(weight_matrix, target_rank):\n",
        "    \"\"\"\n",
        "    Simulates rank reduction without directly modifying the original weight matrix.\n",
        "\n",
        "    Args:\n",
        "        weight_matrix (torch.Tensor): The original weight matrix.\n",
        "        target_rank (int): The desired rank after reduction.\n",
        "\n",
        "    Returns:\n",
        "        torch.Tensor: A new tensor with simulated rank reduction, maintaining the original dimensions.\n",
        "    \"\"\"\n",
        "    U, S, V = torch.linalg.svd(weight_matrix, full_matrices=False)\n",
        "    print(\"Shapes of U, S, V:\", U.shape, S.shape, V.shape)  # Debugging aid\n",
        "\n",
        "    S_simulated = torch.zeros_like(S)\n",
        "    S_simulated[:target_rank] = S[:target_rank]\n",
        "\n",
        "    # Corrected reconstruction (note the parameter ordering within matrix multiplications)\n",
        "    weight_matrix_simulated = torch.mm(V.T, torch.mm(torch.diag(S_simulated), U))\n",
        "    return weight_matrix_simulated\n",
        "\n",
        "# Model parameters\n",
        "input_size = 10\n",
        "hidden_size = 5\n",
        "output_size = 2\n",
        "\n",
        "# Initialize the model\n",
        "model = SimpleNeuralNet(input_size, hidden_size, output_size)\n",
        "\n",
        "# Simulate rank reduction on the fc1 layer's weight matrix\n",
        "with torch.no_grad():  # Prevent changing model gradients during simulation\n",
        "    original_weight = model.fc1.weight.data.clone()  # Preserve original weights\n",
        "    print(\"Original weight shape:\", original_weight.shape)  # Debugging aid\n",
        "\n",
        "    target_rank = 3\n",
        "    simulated_reduced_weight = simulate_rank_reduction(original_weight, target_rank)\n",
        "    print(\"Simulated reduced weight shape:\", simulated_reduced_weight.shape)\n",
        "\n",
        "# Example usage of the model (with unmodified weights)\n",
        "input_tensor = torch.randn(1, input_size)\n",
        "output = model(input_tensor)\n",
        "print(output)\n",
        "\n",
        "\n"
      ],
      "metadata": {
        "colab": {
          "base_uri": "https://localhost:8080/"
        },
        "id": "fNkLiKz7be6V",
        "outputId": "641c7008-ee51-4eb7-9852-fb78596f1c58"
      },
      "execution_count": null,
      "outputs": [
        {
          "output_type": "stream",
          "name": "stdout",
          "text": [
            "Original weight shape: torch.Size([5, 10])\n",
            "Shapes of U, S, V: torch.Size([5, 5]) torch.Size([5]) torch.Size([5, 10])\n",
            "Simulated reduced weight shape: torch.Size([10, 5])\n",
            "tensor([[-0.1108,  0.3121]], grad_fn=<AddmmBackward0>)\n"
          ]
        }
      ]
    },
    {
      "cell_type": "markdown",
      "source": [
        "SimpleLanguageModel Definition: We define a basic neural network model for language processing, which includes an embedding layer, an LSTM layer, and a fully connected (linear) layer.\n",
        "\n",
        "Rank Reduction Function (reduce_rank): This function takes a weight matrix and a target rank, then performs Singular Value Decomposition (SVD) to reduce the matrix's rank by zeroing out the smaller singular values beyond the target rank. The reduced matrix is then reconstructed, simulating rank reduction.\n",
        "\n",
        "Applying Rank Reduction (apply_rank_reduction_to_layer): This function applies the reduce_rank operation to a specified layer within a model. It updates the layer's weights with the reduced-rank weight matrix.\n",
        "\n",
        "Example Usage: The example demonstrates initializing the language model with specific parameters, applying rank reduction to the model's fully connected layer, and testing the model with an example input tensor to ensure functionality."
      ],
      "metadata": {
        "id": "Yfool84GfWBJ"
      }
    },
    {
      "cell_type": "code",
      "source": [
        "import torch\n",
        "import torch.nn as nn\n",
        "import torch.nn.functional as F\n",
        "\n",
        "# Define a simple language model\n",
        "class SimpleLanguageModel(nn.Module):\n",
        "    def __init__(self, vocab_size, embedding_dim, hidden_dim):\n",
        "        super(SimpleLanguageModel, self).__init__()\n",
        "        self.embedding = nn.Embedding(vocab_size, embedding_dim)\n",
        "        self.rnn = nn.LSTM(embedding_dim, hidden_dim)\n",
        "        self.fc = nn.Linear(hidden_dim, vocab_size)\n",
        "\n",
        "    def forward(self, x):\n",
        "        embedded = self.embedding(x)\n",
        "        output, (hidden, cell) = self.rnn(embedded)\n",
        "        predictions = self.fc(output)\n",
        "        return predictions\n",
        "\n",
        "# Function to perform rank reduction\n",
        "def reduce_rank(weight_matrix, target_rank):\n",
        "    U, S, V = torch.linalg.svd(weight_matrix, full_matrices=False)\n",
        "    S[:target_rank] = 0  # Zero out all but the top 'target_rank' singular values\n",
        "    reduced_matrix = torch.mm(U, torch.mm(torch.diag(S), V.T))\n",
        "    return reduced_matrix\n",
        "\n",
        "# Function to apply rank reduction to a specific layer of a model\n",
        "def apply_rank_reduction_to_layer(model, layer_name, target_rank):\n",
        "    layer = getattr(model, layer_name)\n",
        "    weight_matrix = layer.weight.data\n",
        "    reduced_weight_matrix = reduce_rank(weight_matrix, target_rank)\n",
        "    layer.weight.data = reduced_weight_matrix\n",
        "\n",
        "# Example usage\n",
        "vocab_size = 10000  # Example vocabulary size\n",
        "embedding_dim = 400  # Example embedding dimension\n",
        "hidden_dim = 256  # Example hidden dimension\n",
        "model = SimpleLanguageModel(vocab_size, embedding_dim, hidden_dim)\n",
        "\n",
        "# Applying rank reduction to the fully connected layer 'fc'\n",
        "apply_rank_reduction_to_layer(model, 'fc', target_rank=50)\n",
        "\n",
        "# Test the model with example input (assuming you have a suitable input tensor)\n",
        "input_tensor = torch.randint(0, vocab_size, (10, 5))  # Example input tensor\n",
        "output = model(input_tensor)\n",
        "print(output.shape)  # Should print the shape of the output tensor\n"
      ],
      "metadata": {
        "colab": {
          "base_uri": "https://localhost:8080/"
        },
        "id": "ONHEPT1hfT83",
        "outputId": "ef36c77d-b5b8-439d-a32b-1eb57a61d0e2"
      },
      "execution_count": null,
      "outputs": [
        {
          "output_type": "stream",
          "name": "stdout",
          "text": [
            "torch.Size([10, 5, 10000])\n"
          ]
        }
      ]
    },
    {
      "cell_type": "markdown",
      "source": [
        "SETUP - SIMPLE CLASSIFICATION"
      ],
      "metadata": {
        "id": "J8tFfWfeXNyX"
      }
    },
    {
      "cell_type": "code",
      "source": [
        "import torch\n",
        "import torch.nn as nn\n",
        "import torch.nn.functional as F\n",
        "from torch.utils.data import DataLoader, Dataset\n",
        "\n",
        "class SimpleSentimentDataset(Dataset):\n",
        "    def __init__(self, data, labels):\n",
        "        self.data = data\n",
        "        self.labels = labels\n",
        "\n",
        "    def __len__(self):\n",
        "        return len(self.labels)\n",
        "\n",
        "    def __getitem__(self, idx):\n",
        "        return self.data[idx], self.labels[idx]\n",
        "\n",
        "class SentimentAnalysisModel(nn.Module):\n",
        "    def __init__(self, vocab_size, embedding_dim, hidden_dim, output_dim):\n",
        "        super(SentimentAnalysisModel, self).__init__()\n",
        "        self.embedding = nn.Embedding(vocab_size, embedding_dim)\n",
        "        self.fc1 = nn.Linear(embedding_dim, hidden_dim)\n",
        "        self.fc2 = nn.Linear(hidden_dim, output_dim)\n",
        "\n",
        "    def forward(self, x):\n",
        "        x = self.embedding(x)\n",
        "        x = torch.mean(x, dim=1)\n",
        "        x = F.relu(self.fc1(x))\n",
        "        x = self.fc2(x)\n",
        "        return x\n",
        "\n",
        "def train_model(model, dataloader, epochs=1):\n",
        "    criterion = nn.BCEWithLogitsLoss()\n",
        "    optimizer = torch.optim.Adam(model.parameters(), lr=0.001)\n",
        "    for epoch in range(epochs):\n",
        "        for inputs, targets in dataloader:\n",
        "            optimizer.zero_grad()\n",
        "            outputs = model(inputs).squeeze()\n",
        "            targets = targets.squeeze()\n",
        "            loss = criterion(outputs, targets)\n",
        "            loss.backward()\n",
        "            optimizer.step()\n",
        "        print(f'Epoch {epoch}, Loss: {loss.item()}')\n"
      ],
      "metadata": {
        "id": "t1WjAS4ygFtB"
      },
      "execution_count": null,
      "outputs": []
    },
    {
      "cell_type": "code",
      "source": [
        "# Data preparation\n",
        "vocab_size = 1000\n",
        "data = torch.randint(0, vocab_size, (100, 10))\n",
        "labels = torch.randint(0, 2, (100, 1)).float()\n",
        "\n",
        "dataset = SimpleSentimentDataset(data, labels)\n",
        "dataloader = DataLoader(dataset, batch_size=10)\n",
        "\n",
        "# Model initialization\n",
        "model_without_reduction = SentimentAnalysisModel(vocab_size, 50, 100, 1)\n",
        "\n",
        "print(\"Training model without rank reduction:\")\n",
        "train_model(model_without_reduction, dataloader)\n"
      ],
      "metadata": {
        "colab": {
          "base_uri": "https://localhost:8080/"
        },
        "id": "lO124BR1XPM7",
        "outputId": "dfe4fb5f-ddf5-4590-e9e4-2ad7a1aa4f30"
      },
      "execution_count": null,
      "outputs": [
        {
          "output_type": "stream",
          "name": "stdout",
          "text": [
            "Training model without rank reduction:\n",
            "Epoch 0, Loss: 0.6966372728347778\n"
          ]
        }
      ]
    },
    {
      "cell_type": "code",
      "source": [
        "def apply_rank_reduction_to_layer(model, layer_name, target_rank):\n",
        "    layer = getattr(model, layer_name)\n",
        "    with torch.no_grad():\n",
        "        U, S, V = torch.linalg.svd(layer.weight.data, full_matrices=False)\n",
        "        S[target_rank:] = 0  # Zero out all but the top 'target_rank' singular values\n",
        "        layer.weight.data = torch.mm(U, torch.mm(torch.diag(S), V.t()))\n",
        "\n",
        "# Model initialization with rank reduction\n",
        "model_with_reduction = SentimentAnalysisModel(vocab_size, 50, 100, 1)\n",
        "\n",
        "# Applying rank reduction to the fc1 layer\n",
        "apply_rank_reduction_to_layer(model_with_reduction, 'fc1', 50)\n",
        "\n",
        "print(\"\\nTraining model with rank reduction:\")\n",
        "train_model(model_with_reduction, dataloader)\n"
      ],
      "metadata": {
        "colab": {
          "base_uri": "https://localhost:8080/"
        },
        "id": "tYgRWrxOXSok",
        "outputId": "f5379a25-030d-449e-f78a-69f5de75b49a"
      },
      "execution_count": null,
      "outputs": [
        {
          "output_type": "stream",
          "name": "stdout",
          "text": [
            "\n",
            "Training model with rank reduction:\n",
            "Epoch 0, Loss: 0.6907050013542175\n"
          ]
        }
      ]
    },
    {
      "cell_type": "markdown",
      "source": [
        "\n",
        "The output from training the models shows the loss values for both scenarios after the first epoch:\n",
        "\n",
        "With Rank Reduction: The loss is 0.6907050013542175.\n",
        "Without Rank Reduction: The loss is 0.6966372728347778.\n",
        "These results indicate that the model with rank reduction slightly outperforms the model without rank reduction in terms of the loss metric after the first epoch. While the difference is not substantial, it suggests that rank reduction might have contributed to a marginally more efficient parameter set in the early stages of training, potentially leading to faster convergence or better generalization."
      ],
      "metadata": {
        "id": "SzrBz2BNXtmk"
      }
    },
    {
      "cell_type": "markdown",
      "source": [
        "his example will train two models: one without any modifications and another with a simplified version of a layer to simulate the effect of rank reduction. We'll compare their performance on the CIFAR-10 dataset to observe any substantial differences.\n",
        "\n"
      ],
      "metadata": {
        "id": "NM8wNMUvYjqw"
      }
    },
    {
      "cell_type": "code",
      "source": [
        "import torch\n",
        "import torch.nn as nn\n",
        "import torch.nn.functional as F\n",
        "import torch.optim as optim\n",
        "from torchvision import datasets, transforms\n",
        "from torch.utils.data import DataLoader\n",
        "\n",
        "# Define the CNN model\n",
        "class BasicCNN(nn.Module):\n",
        "    def __init__(self, simplified=False):\n",
        "        super(BasicCNN, self).__init__()\n",
        "        self.conv1 = nn.Conv2d(3, 6, 5)\n",
        "        self.pool = nn.MaxPool2d(2, 2)\n",
        "        self.conv2 = nn.Conv2d(6, 16, 5)\n",
        "\n",
        "        if simplified:\n",
        "            # Simplified fc1 layer to simulate rank reduction\n",
        "            self.fc1 = nn.Linear(16 * 5 * 5, 60)  # Output features reduced\n",
        "            self.fc2 = nn.Linear(60, 84)  # Adjust fc2 to accept 60 features\n",
        "        else:\n",
        "            self.fc1 = nn.Linear(16 * 5 * 5, 120)\n",
        "            self.fc2 = nn.Linear(120, 84)\n",
        "\n",
        "        self.fc3 = nn.Linear(84, 10)\n",
        "\n",
        "    def forward(self, x):\n",
        "        x = self.pool(F.relu(self.conv1(x)))\n",
        "        x = self.pool(F.relu(self.conv2(x)))\n",
        "        x = x.view(-1, 16 * 5 * 5)\n",
        "        x = F.relu(self.fc1(x))\n",
        "        x = F.relu(self.fc2(x))\n",
        "        x = self.fc3(x)\n",
        "        return x\n",
        "\n",
        "# Load and normalize CIFAR-10\n",
        "transform = transforms.Compose([\n",
        "    transforms.ToTensor(),\n",
        "    transforms.Normalize((0.5, 0.5, 0.5), (0.5, 0.5, 0.5))])\n",
        "\n",
        "trainset = datasets.CIFAR10(root='./data', train=True, download=True, transform=transform)\n",
        "trainloader = DataLoader(trainset, batch_size=64, shuffle=True)\n",
        "\n",
        "testset = datasets.CIFAR10(root='./data', train=False, download=True, transform=transform)\n",
        "testloader = DataLoader(testset, batch_size=1000, shuffle=False)\n",
        "\n",
        "def train_and_evaluate(model):\n",
        "    criterion = nn.CrossEntropyLoss()\n",
        "    optimizer = optim.SGD(model.parameters(), lr=0.001, momentum=0.9)\n",
        "\n",
        "    for epoch in range(10):  # Train for 10 epochs\n",
        "        for i, data in enumerate(trainloader, 0):\n",
        "            inputs, labels = data\n",
        "            optimizer.zero_grad()\n",
        "            outputs = model(inputs)\n",
        "            loss = criterion(outputs, labels)\n",
        "            loss.backward()\n",
        "            optimizer.step()\n",
        "\n",
        "    correct = 0\n",
        "    total = 0\n",
        "    with torch.no_grad():\n",
        "        for data in testloader:\n",
        "            images, labels = data\n",
        "            outputs = model(images)\n",
        "            _, predicted = torch.max(outputs.data, 1)\n",
        "            total += labels.size(0)\n",
        "            correct += (predicted == labels).sum().item()\n",
        "\n",
        "    print('Accuracy of the model on the 10000 test images: %d %%' % (100 * correct / total))\n",
        "\n",
        "# Train and evaluate the original model\n",
        "print(\"Training BasicCNN without simplification:\")\n",
        "model_basic = BasicCNN()\n",
        "train_and_evaluate(model_basic)\n",
        "\n",
        "# Train and evaluate the model with simplification\n",
        "print(\"\\nTraining BasicCNN with simplified fc1 layer:\")\n",
        "model_simplified = BasicCNN(simplified=True)\n",
        "train_and_evaluate(model_simplified)\n",
        "\n"
      ],
      "metadata": {
        "colab": {
          "base_uri": "https://localhost:8080/"
        },
        "id": "Eb_nRUekYhx_",
        "outputId": "ffa0fed8-447c-42f9-a3a2-0528ada72281"
      },
      "execution_count": null,
      "outputs": [
        {
          "output_type": "stream",
          "name": "stdout",
          "text": [
            "Files already downloaded and verified\n",
            "Files already downloaded and verified\n",
            "Training BasicCNN without simplification:\n",
            "Accuracy of the model on the 10000 test images: 52 %\n",
            "\n",
            "Training BasicCNN with simplified fc1 layer:\n",
            "Accuracy of the model on the 10000 test images: 51 %\n"
          ]
        }
      ]
    },
    {
      "cell_type": "markdown",
      "source": [
        "This outcome suggests that the simplification of the model, achieved by reducing the dimensionality of the first fully connected layer (fc1), resulted in a slight decrease in accuracy on the CIFAR-10 test images. The difference in performance between the original and simplified models is relatively small, indicating that the simplification had a modest impact on the model's ability to generalize.\n",
        "\n",
        "Interpretation\n",
        "Minimal Performance Impact: The slight decrease in accuracy demonstrates that rank reduction (simulated through simplification) can potentially make the model slightly less capable of capturing the nuances of the data, but the impact is not substantial. This is a promising result, suggesting that such simplifications might offer a viable path toward more efficient models with minimal loss in performance.\n",
        "\n",
        "Efficiency vs. Accuracy Trade-off: The simplification represents a trade-off between model efficiency and accuracy. In scenarios where computational resources are limited or where inference speed is critical, accepting a small decrease in accuracy for a more efficient model could be beneficial.\n"
      ],
      "metadata": {
        "id": "i4_PdY65c0xO"
      }
    },
    {
      "cell_type": "markdown",
      "source": [
        "**we'll extend the training duration, adjust hyperparameters, and apply simplifications to different layers. This executable code will focus on the PyTorch framework and the CIFAR-10 dataset**"
      ],
      "metadata": {
        "id": "NZnyV_j8dHoQ"
      }
    },
    {
      "cell_type": "code",
      "source": [
        "import torch\n",
        "import torch.nn as nn\n",
        "import torch.nn.functional as F\n",
        "import torch.optim as optim\n",
        "from torchvision import datasets, transforms\n",
        "from torch.utils.data import DataLoader\n",
        "\n",
        "# Define the CNN model for CIFAR-10\n",
        "class CIFAR10CNN(nn.Module):\n",
        "    def __init__(self, simplified=False):\n",
        "        super(CIFAR10CNN, self).__init__()\n",
        "        self.conv1 = nn.Conv2d(3, 6, 5)  # Input channels = 3 for RGB images\n",
        "        self.pool = nn.MaxPool2d(2, 2)\n",
        "        self.conv2 = nn.Conv2d(6, 16, 5)\n",
        "\n",
        "        # Adjusted model architecture to remove embedding layer\n",
        "        # Simplification affects the first fully connected layer\n",
        "        fc1_output_features = 60 if simplified else 120\n",
        "        self.fc1 = nn.Linear(16 * 5 * 5, fc1_output_features)\n",
        "        self.fc2 = nn.Linear(fc1_output_features, 84)\n",
        "        self.fc3 = nn.Linear(84, 10)  # Output classes = 10 for CIFAR-10\n",
        "\n",
        "    def forward(self, x):\n",
        "        x = self.pool(F.relu(self.conv1(x)))\n",
        "        x = self.pool(F.relu(self.conv2(x)))\n",
        "        x = x.view(-1, 16 * 5 * 5)\n",
        "        x = F.relu(self.fc1(x))\n",
        "        x = F.relu(self.fc2(x))\n",
        "        x = self.fc3(x)\n",
        "        return x\n",
        "\n",
        "# Load and normalize CIFAR-10 dataset\n",
        "transform = transforms.Compose([\n",
        "    transforms.ToTensor(),\n",
        "    transforms.Normalize((0.5, 0.5, 0.5), (0.5, 0.5, 0.5))])\n",
        "\n",
        "trainset = datasets.CIFAR10(root='./data', train=True, download=True, transform=transform)\n",
        "trainloader = DataLoader(trainset, batch_size=64, shuffle=True)\n",
        "\n",
        "testset = datasets.CIFAR10(root='./data', train=False, download=True, transform=transform)\n",
        "testloader = DataLoader(testset, batch_size=1000, shuffle=False)\n",
        "\n",
        "def train_and_evaluate(model):\n",
        "    criterion = nn.CrossEntropyLoss()\n",
        "    optimizer = optim.SGD(model.parameters(), lr=0.001, momentum=0.9)\n",
        "\n",
        "    # Training the model\n",
        "    for epoch in range(10):  # Loop over the dataset multiple times\n",
        "        for inputs, labels in trainloader:\n",
        "            optimizer.zero_grad()\n",
        "            outputs = model(inputs)\n",
        "            loss = criterion(outputs, labels)\n",
        "            loss.backward()\n",
        "            optimizer.step()\n",
        "\n",
        "        print(f'Epoch {epoch+1}, finished training.')\n",
        "\n",
        "    # Evaluating the model\n",
        "    correct = 0\n",
        "    total = 0\n",
        "    with torch.no_grad():\n",
        "        for data in testloader:\n",
        "            images, labels = data\n",
        "            outputs = model(images)\n",
        "            _, predicted = torch.max(outputs.data, 1)\n",
        "            total += labels.size(0)\n",
        "            correct += (predicted == labels).sum().item()\n",
        "\n",
        "    print('Accuracy of the model on the 10000 test images: %d %%' % (100 * correct / total))\n",
        "\n",
        "# Train and evaluate the original model\n",
        "print(\"Training CIFAR10CNN without simplification:\")\n",
        "model_basic = CIFAR10CNN()\n",
        "train_and_evaluate(model_basic)\n",
        "\n",
        "# Train and evaluate the model with simplification\n",
        "print(\"\\nTraining CIFAR10CNN with simplified fc1 layer:\")\n",
        "model_simplified = CIFAR10CNN(simplified=True)\n",
        "train_and_evaluate(model_simplified)\n",
        "\n"
      ],
      "metadata": {
        "colab": {
          "base_uri": "https://localhost:8080/"
        },
        "id": "4x7AXCJqc8Sv",
        "outputId": "8abbb854-d2e6-427a-a602-046f7781ead6"
      },
      "execution_count": null,
      "outputs": [
        {
          "output_type": "stream",
          "name": "stdout",
          "text": [
            "Files already downloaded and verified\n",
            "Files already downloaded and verified\n",
            "Training CIFAR10CNN without simplification:\n",
            "Epoch 1, finished training.\n",
            "Epoch 2, finished training.\n",
            "Epoch 3, finished training.\n",
            "Epoch 4, finished training.\n",
            "Epoch 5, finished training.\n",
            "Epoch 6, finished training.\n",
            "Epoch 7, finished training.\n",
            "Epoch 8, finished training.\n",
            "Epoch 9, finished training.\n",
            "Epoch 10, finished training.\n",
            "Accuracy of the model on the 10000 test images: 51 %\n",
            "\n",
            "Training CIFAR10CNN with simplified fc1 layer:\n",
            "Epoch 1, finished training.\n",
            "Epoch 2, finished training.\n",
            "Epoch 3, finished training.\n",
            "Epoch 4, finished training.\n",
            "Epoch 5, finished training.\n",
            "Epoch 6, finished training.\n",
            "Epoch 7, finished training.\n",
            "Epoch 8, finished training.\n",
            "Epoch 9, finished training.\n",
            "Epoch 10, finished training.\n",
            "Accuracy of the model on the 10000 test images: 51 %\n"
          ]
        }
      ]
    },
    {
      "cell_type": "code",
      "source": [
        "import torch\n",
        "import torch.nn as nn\n",
        "import torch.nn.functional as F\n",
        "import torch.optim as optim\n",
        "from torchvision import datasets, transforms\n",
        "from torch.utils.data import DataLoader\n",
        "\n",
        "# Define the CNN model for CIFAR-100 (flexible for simplification)\n",
        "class CIFAR10CNN(nn.Module):\n",
        "    def __init__(self, simplified=False):\n",
        "        super(CIFAR10CNN, self).__init__()\n",
        "        self.conv1 = nn.Conv2d(3, 6, 5)\n",
        "        self.pool = nn.MaxPool2d(2, 2)\n",
        "        self.conv2 = nn.Conv2d(6, 16, 5)\n",
        "\n",
        "        # Adjusted model architecture to remove embedding layer\n",
        "        fc1_output_features = 60 if simplified else 120\n",
        "        self.fc1 = nn.Linear(16 * 5 * 5, fc1_output_features)\n",
        "        self.fc2 = nn.Linear(fc1_output_features, 84)\n",
        "        self.fc3 = nn.Linear(84, 100)  # Output classes = 100 for CIFAR-100\n",
        "\n",
        "    def forward(self, x):\n",
        "        x = self.pool(F.relu(self.conv1(x)))\n",
        "        x = self.pool(F.relu(self.conv2(x)))\n",
        "        x = x.view(-1, 16 * 5 * 5)\n",
        "        x = F.relu(self.fc1(x))\n",
        "        x = F.relu(self.fc2(x))\n",
        "        x = self.fc3(x)\n",
        "        return x\n",
        "\n",
        "# Load and normalize CIFAR-100 dataset\n",
        "transform = transforms.Compose([\n",
        "    transforms.ToTensor(),\n",
        "    transforms.Normalize((0.5, 0.5, 0.5), (0.5, 0.5, 0.5))])\n",
        "\n",
        "trainset = datasets.CIFAR100(root='./data', train=True, download=True, transform=transform)\n",
        "trainloader = DataLoader(trainset, batch_size=64, shuffle=True)\n",
        "\n",
        "testset = datasets.CIFAR100(root='./data', train=False, download=True, transform=transform)\n",
        "testloader = DataLoader(testset, batch_size=1000, shuffle=False)\n",
        "\n",
        "# Training and Evaluation Function\n",
        "def train_and_evaluate(model):\n",
        "    criterion = nn.CrossEntropyLoss()\n",
        "    optimizer = optim.SGD(model.parameters(), lr=0.001, momentum=0.9)\n",
        "\n",
        "    # Training the model\n",
        "    for epoch in range(10):\n",
        "        for inputs, labels in trainloader:\n",
        "            optimizer.zero_grad()\n",
        "            outputs = model(inputs)\n",
        "            loss = criterion(outputs, labels)\n",
        "            loss.backward()\n",
        "            optimizer.step()\n",
        "\n",
        "        print(f'Epoch {epoch+1}, finished training.')\n",
        "\n",
        "    # Evaluating the model\n",
        "    correct = 0\n",
        "    total = 0\n",
        "    with torch.no_grad():\n",
        "        for data in testloader:\n",
        "            images, labels = data\n",
        "            outputs = model(images)\n",
        "            _, predicted = torch.max(outputs.data, 1)\n",
        "            total += labels.size(0)\n",
        "            correct += (predicted == labels).sum().item()\n",
        "\n",
        "    print('Accuracy of the model on the 10000 test images: %d %%' % (100 * correct / total))\n",
        "\n",
        "# Train and evaluate the original model\n",
        "print(\"Training CIFAR10CNN without simplification on CIFAR-100:\")\n",
        "model_basic = CIFAR10CNN()\n",
        "train_and_evaluate(model_basic)\n",
        "\n",
        "# Train and evaluate the model with simplification\n",
        "print(\"\\nTraining CIFAR10CNN with simplified fc1 layer on CIFAR-100:\")\n",
        "model_simplified = CIFAR10CNN(simplified=True)\n",
        "train_and_evaluate(model_simplified)\n"
      ],
      "metadata": {
        "colab": {
          "base_uri": "https://localhost:8080/"
        },
        "id": "iICyQItZnkNH",
        "outputId": "02b573e2-dc65-4a3d-f3d5-84c50ed30aa4"
      },
      "execution_count": null,
      "outputs": [
        {
          "metadata": {
            "tags": null
          },
          "name": "stdout",
          "output_type": "stream",
          "text": [
            "Downloading https://www.cs.toronto.edu/~kriz/cifar-100-python.tar.gz to ./data/cifar-100-python.tar.gz\n"
          ]
        },
        {
          "metadata": {
            "tags": null
          },
          "name": "stderr",
          "output_type": "stream",
          "text": [
            "100%|██████████| 169001437/169001437 [00:02<00:00, 68655454.72it/s]\n"
          ]
        },
        {
          "output_type": "stream",
          "name": "stdout",
          "text": [
            "Extracting ./data/cifar-100-python.tar.gz to ./data\n",
            "Files already downloaded and verified\n",
            "Training CIFAR10CNN without simplification on CIFAR-100:\n",
            "Epoch 1, finished training.\n",
            "Epoch 2, finished training.\n",
            "Epoch 3, finished training.\n",
            "Epoch 4, finished training.\n",
            "Epoch 5, finished training.\n",
            "Epoch 6, finished training.\n",
            "Epoch 7, finished training.\n",
            "Epoch 8, finished training.\n",
            "Epoch 9, finished training.\n",
            "Epoch 10, finished training.\n",
            "Accuracy of the model on the 10000 test images: 14 %\n",
            "\n",
            "Training CIFAR10CNN with simplified fc1 layer on CIFAR-100:\n",
            "Epoch 1, finished training.\n",
            "Epoch 2, finished training.\n",
            "Epoch 3, finished training.\n",
            "Epoch 4, finished training.\n",
            "Epoch 5, finished training.\n",
            "Epoch 6, finished training.\n",
            "Epoch 7, finished training.\n",
            "Epoch 8, finished training.\n",
            "Epoch 9, finished training.\n",
            "Epoch 10, finished training.\n",
            "Accuracy of the model on the 10000 test images: 13 %\n"
          ]
        }
      ]
    }
  ]
}